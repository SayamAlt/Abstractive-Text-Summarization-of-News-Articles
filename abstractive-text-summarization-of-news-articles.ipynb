{
 "cells": [
  {
   "cell_type": "code",
   "execution_count": 1,
   "id": "e8186d93",
   "metadata": {
    "_cell_guid": "b1076dfc-b9ad-4769-8c92-a6c4dae69d19",
    "_uuid": "8f2839f25d086af736a60e9eeb907d3b93b6e0e5",
    "execution": {
     "iopub.execute_input": "2022-10-31T08:54:46.464338Z",
     "iopub.status.busy": "2022-10-31T08:54:46.463907Z",
     "iopub.status.idle": "2022-10-31T08:54:46.481127Z",
     "shell.execute_reply": "2022-10-31T08:54:46.480078Z"
    },
    "papermill": {
     "duration": 0.031218,
     "end_time": "2022-10-31T08:54:46.484042",
     "exception": false,
     "start_time": "2022-10-31T08:54:46.452824",
     "status": "completed"
    },
    "tags": []
   },
   "outputs": [
    {
     "name": "stdout",
     "output_type": "stream",
     "text": [
      "/kaggle/input/news-summary/news_summary_more.csv\n",
      "/kaggle/input/news-summary/news_summary.csv\n"
     ]
    }
   ],
   "source": [
    "# This Python 3 environment comes with many helpful analytics libraries installed\n",
    "# It is defined by the kaggle/python Docker image: https://github.com/kaggle/docker-python\n",
    "# For example, here's several helpful packages to load\n",
    "\n",
    "import numpy as np # linear algebra\n",
    "import pandas as pd # data processing, CSV file I/O (e.g. pd.read_csv)\n",
    "\n",
    "# Input data files are available in the read-only \"../input/\" directory\n",
    "# For example, running this (by clicking run or pressing Shift+Enter) will list all files under the input directory\n",
    "\n",
    "import os\n",
    "for dirname, _, filenames in os.walk('/kaggle/input'):\n",
    "    for filename in filenames:\n",
    "        print(os.path.join(dirname, filename))\n",
    "\n",
    "# You can write up to 20GB to the current directory (/kaggle/working/) that gets preserved as output when you create a version using \"Save & Run All\" \n",
    "# You can also write temporary files to /kaggle/temp/, but they won't be saved outside of the current session"
   ]
  },
  {
   "cell_type": "code",
   "execution_count": 2,
   "id": "50e2a4a7",
   "metadata": {
    "execution": {
     "iopub.execute_input": "2022-10-31T08:54:46.513319Z",
     "iopub.status.busy": "2022-10-31T08:54:46.512995Z",
     "iopub.status.idle": "2022-10-31T08:54:58.696988Z",
     "shell.execute_reply": "2022-10-31T08:54:58.695469Z"
    },
    "papermill": {
     "duration": 12.206111,
     "end_time": "2022-10-31T08:54:58.699970",
     "exception": false,
     "start_time": "2022-10-31T08:54:46.493859",
     "status": "completed"
    },
    "tags": []
   },
   "outputs": [
    {
     "name": "stdout",
     "output_type": "stream",
     "text": [
      "Collecting jiwer\r\n",
      "  Downloading jiwer-2.5.1-py3-none-any.whl (15 kB)\r\n",
      "Collecting levenshtein==0.20.2\r\n",
      "  Downloading Levenshtein-0.20.2-cp37-cp37m-manylinux_2_17_x86_64.manylinux2014_x86_64.whl (1.4 MB)\r\n",
      "\u001b[2K     \u001b[90m━━━━━━━━━━━━━━━━━━━━━━━━━━━━━━━━━━━━━━━━\u001b[0m \u001b[32m1.4/1.4 MB\u001b[0m \u001b[31m10.3 MB/s\u001b[0m eta \u001b[36m0:00:00\u001b[0m\r\n",
      "\u001b[?25hRequirement already satisfied: rapidfuzz<3.0.0,>=2.3.0 in /opt/conda/lib/python3.7/site-packages (from levenshtein==0.20.2->jiwer) (2.11.1)\r\n",
      "Installing collected packages: levenshtein, jiwer\r\n",
      "  Attempting uninstall: levenshtein\r\n",
      "    Found existing installation: Levenshtein 0.20.7\r\n",
      "    Uninstalling Levenshtein-0.20.7:\r\n",
      "      Successfully uninstalled Levenshtein-0.20.7\r\n",
      "\u001b[31mERROR: pip's dependency resolver does not currently take into account all the packages that are installed. This behaviour is the source of the following dependency conflicts.\r\n",
      "python-levenshtein 0.20.7 requires Levenshtein==0.20.7, but you have levenshtein 0.20.2 which is incompatible.\u001b[0m\u001b[31m\r\n",
      "\u001b[0mSuccessfully installed jiwer-2.5.1 levenshtein-0.20.2\r\n",
      "\u001b[33mWARNING: Running pip as the 'root' user can result in broken permissions and conflicting behaviour with the system package manager. It is recommended to use a virtual environment instead: https://pip.pypa.io/warnings/venv\u001b[0m\u001b[33m\r\n",
      "\u001b[0mNote: you may need to restart the kernel to use updated packages.\n"
     ]
    }
   ],
   "source": [
    "pip install jiwer"
   ]
  },
  {
   "cell_type": "code",
   "execution_count": 3,
   "id": "6b202440",
   "metadata": {
    "execution": {
     "iopub.execute_input": "2022-10-31T08:54:58.721857Z",
     "iopub.status.busy": "2022-10-31T08:54:58.720858Z",
     "iopub.status.idle": "2022-10-31T08:55:06.755537Z",
     "shell.execute_reply": "2022-10-31T08:55:06.754558Z"
    },
    "papermill": {
     "duration": 8.047802,
     "end_time": "2022-10-31T08:55:06.757991",
     "exception": false,
     "start_time": "2022-10-31T08:54:58.710189",
     "status": "completed"
    },
    "tags": []
   },
   "outputs": [],
   "source": [
    "from tensorflow.keras import backend as K\n",
    "from tensorflow.keras.layers import LSTM, TimeDistributed, Dense, Embedding, Input, Concatenate\n",
    "from tensorflow.keras.callbacks import EarlyStopping, ReduceLROnPlateau, ModelCheckpoint\n",
    "from tensorflow.keras.models import load_model, Model\n",
    "import seaborn as sns\n",
    "import tensorflow as tf\n",
    "import matplotlib.pyplot as plt\n",
    "import warnings, re\n",
    "warnings.filterwarnings('ignore')\n",
    "from sklearn.model_selection import train_test_split\n",
    "from tensorflow.keras.preprocessing.sequence import pad_sequences\n",
    "from tensorflow.keras.preprocessing.text import Tokenizer\n",
    "from tqdm.notebook import tqdm\n",
    "from wordcloud import WordCloud\n",
    "tqdm.pandas()\n",
    "logger = tf.get_logger()\n",
    "from tensorflow.keras.utils import plot_model\n",
    "from nltk.translate.bleu_score import sentence_bleu\n",
    "from jiwer import wer, mer, cer, wip, wil"
   ]
  },
  {
   "cell_type": "code",
   "execution_count": 4,
   "id": "52253d8f",
   "metadata": {
    "execution": {
     "iopub.execute_input": "2022-10-31T08:55:06.781259Z",
     "iopub.status.busy": "2022-10-31T08:55:06.779473Z",
     "iopub.status.idle": "2022-10-31T08:55:06.785290Z",
     "shell.execute_reply": "2022-10-31T08:55:06.784325Z"
    },
    "papermill": {
     "duration": 0.018357,
     "end_time": "2022-10-31T08:55:06.787579",
     "exception": false,
     "start_time": "2022-10-31T08:55:06.769222",
     "status": "completed"
    },
    "tags": []
   },
   "outputs": [],
   "source": [
    "plt.rcParams['figure.figsize'] = (12,8)"
   ]
  },
  {
   "cell_type": "code",
   "execution_count": 5,
   "id": "79cd4b40",
   "metadata": {
    "execution": {
     "iopub.execute_input": "2022-10-31T08:55:06.807017Z",
     "iopub.status.busy": "2022-10-31T08:55:06.806722Z",
     "iopub.status.idle": "2022-10-31T08:55:07.812187Z",
     "shell.execute_reply": "2022-10-31T08:55:07.811250Z"
    },
    "papermill": {
     "duration": 1.017569,
     "end_time": "2022-10-31T08:55:07.814268",
     "exception": false,
     "start_time": "2022-10-31T08:55:06.796699",
     "status": "completed"
    },
    "tags": []
   },
   "outputs": [
    {
     "data": {
      "text/html": [
       "<div>\n",
       "<style scoped>\n",
       "    .dataframe tbody tr th:only-of-type {\n",
       "        vertical-align: middle;\n",
       "    }\n",
       "\n",
       "    .dataframe tbody tr th {\n",
       "        vertical-align: top;\n",
       "    }\n",
       "\n",
       "    .dataframe thead th {\n",
       "        text-align: right;\n",
       "    }\n",
       "</style>\n",
       "<table border=\"1\" class=\"dataframe\">\n",
       "  <thead>\n",
       "    <tr style=\"text-align: right;\">\n",
       "      <th></th>\n",
       "      <th>headlines</th>\n",
       "      <th>text</th>\n",
       "    </tr>\n",
       "  </thead>\n",
       "  <tbody>\n",
       "    <tr>\n",
       "      <th>0</th>\n",
       "      <td>Non-Congress candidate for Prez would've been ...</td>\n",
       "      <td>All India Majlis-e-Ittehadul Muslimeen (AIMIM)...</td>\n",
       "    </tr>\n",
       "    <tr>\n",
       "      <th>1</th>\n",
       "      <td>If Nana was common man, he'd be immediately ar...</td>\n",
       "      <td>Tanushree Dutta's lawyer N Satpute has said if...</td>\n",
       "    </tr>\n",
       "    <tr>\n",
       "      <th>2</th>\n",
       "      <td>Irma world's longest storm to bear 185 mph win...</td>\n",
       "      <td>Hurricane Irma has become the world's longest ...</td>\n",
       "    </tr>\n",
       "    <tr>\n",
       "      <th>3</th>\n",
       "      <td>Best ideas born on campuses, not fancy offices...</td>\n",
       "      <td>Addressing students at IIT Bombay's convocatio...</td>\n",
       "    </tr>\n",
       "    <tr>\n",
       "      <th>4</th>\n",
       "      <td>Former UP CM Akhilesh Yadav bans media from ne...</td>\n",
       "      <td>Interacting with the media during Eid celebrat...</td>\n",
       "    </tr>\n",
       "  </tbody>\n",
       "</table>\n",
       "</div>"
      ],
      "text/plain": [
       "                                           headlines  \\\n",
       "0  Non-Congress candidate for Prez would've been ...   \n",
       "1  If Nana was common man, he'd be immediately ar...   \n",
       "2  Irma world's longest storm to bear 185 mph win...   \n",
       "3  Best ideas born on campuses, not fancy offices...   \n",
       "4  Former UP CM Akhilesh Yadav bans media from ne...   \n",
       "\n",
       "                                                text  \n",
       "0  All India Majlis-e-Ittehadul Muslimeen (AIMIM)...  \n",
       "1  Tanushree Dutta's lawyer N Satpute has said if...  \n",
       "2  Hurricane Irma has become the world's longest ...  \n",
       "3  Addressing students at IIT Bombay's convocatio...  \n",
       "4  Interacting with the media during Eid celebrat...  "
      ]
     },
     "execution_count": 5,
     "metadata": {},
     "output_type": "execute_result"
    }
   ],
   "source": [
    "df = pd.read_csv('../input/news-summary/news_summary_more.csv')\n",
    "df = df.sample(n=8000).reset_index(drop=True)\n",
    "df.head()"
   ]
  },
  {
   "cell_type": "code",
   "execution_count": 6,
   "id": "1bea89bc",
   "metadata": {
    "execution": {
     "iopub.execute_input": "2022-10-31T08:55:07.836235Z",
     "iopub.status.busy": "2022-10-31T08:55:07.834470Z",
     "iopub.status.idle": "2022-10-31T08:55:07.841295Z",
     "shell.execute_reply": "2022-10-31T08:55:07.840346Z"
    },
    "papermill": {
     "duration": 0.019728,
     "end_time": "2022-10-31T08:55:07.843469",
     "exception": false,
     "start_time": "2022-10-31T08:55:07.823741",
     "status": "completed"
    },
    "tags": []
   },
   "outputs": [
    {
     "data": {
      "text/plain": [
       "(8000, 2)"
      ]
     },
     "execution_count": 6,
     "metadata": {},
     "output_type": "execute_result"
    }
   ],
   "source": [
    "df.shape"
   ]
  },
  {
   "cell_type": "code",
   "execution_count": 7,
   "id": "bde654a1",
   "metadata": {
    "execution": {
     "iopub.execute_input": "2022-10-31T08:55:07.863008Z",
     "iopub.status.busy": "2022-10-31T08:55:07.862721Z",
     "iopub.status.idle": "2022-10-31T08:55:07.872992Z",
     "shell.execute_reply": "2022-10-31T08:55:07.872018Z"
    },
    "papermill": {
     "duration": 0.022379,
     "end_time": "2022-10-31T08:55:07.875117",
     "exception": false,
     "start_time": "2022-10-31T08:55:07.852738",
     "status": "completed"
    },
    "tags": []
   },
   "outputs": [
    {
     "data": {
      "text/plain": [
       "headlines    0\n",
       "text         0\n",
       "dtype: int64"
      ]
     },
     "execution_count": 7,
     "metadata": {},
     "output_type": "execute_result"
    }
   ],
   "source": [
    "df.isna().sum()"
   ]
  },
  {
   "cell_type": "code",
   "execution_count": 8,
   "id": "b809b595",
   "metadata": {
    "execution": {
     "iopub.execute_input": "2022-10-31T08:55:07.895624Z",
     "iopub.status.busy": "2022-10-31T08:55:07.895347Z",
     "iopub.status.idle": "2022-10-31T08:55:07.904776Z",
     "shell.execute_reply": "2022-10-31T08:55:07.903760Z"
    },
    "papermill": {
     "duration": 0.02196,
     "end_time": "2022-10-31T08:55:07.906936",
     "exception": false,
     "start_time": "2022-10-31T08:55:07.884976",
     "status": "completed"
    },
    "tags": []
   },
   "outputs": [
    {
     "data": {
      "text/plain": [
       "(8000, 2)"
      ]
     },
     "execution_count": 8,
     "metadata": {},
     "output_type": "execute_result"
    }
   ],
   "source": [
    "df = df.dropna()\n",
    "df.shape"
   ]
  },
  {
   "cell_type": "code",
   "execution_count": 9,
   "id": "d8c6327e",
   "metadata": {
    "execution": {
     "iopub.execute_input": "2022-10-31T08:55:07.926904Z",
     "iopub.status.busy": "2022-10-31T08:55:07.926644Z",
     "iopub.status.idle": "2022-10-31T08:55:07.953363Z",
     "shell.execute_reply": "2022-10-31T08:55:07.952501Z"
    },
    "papermill": {
     "duration": 0.039294,
     "end_time": "2022-10-31T08:55:07.955500",
     "exception": false,
     "start_time": "2022-10-31T08:55:07.916206",
     "status": "completed"
    },
    "tags": []
   },
   "outputs": [
    {
     "data": {
      "text/plain": [
       "0"
      ]
     },
     "execution_count": 9,
     "metadata": {},
     "output_type": "execute_result"
    }
   ],
   "source": [
    "df.duplicated().sum()"
   ]
  },
  {
   "cell_type": "code",
   "execution_count": 10,
   "id": "a96f8b88",
   "metadata": {
    "execution": {
     "iopub.execute_input": "2022-10-31T08:55:07.975666Z",
     "iopub.status.busy": "2022-10-31T08:55:07.975396Z",
     "iopub.status.idle": "2022-10-31T08:55:07.992435Z",
     "shell.execute_reply": "2022-10-31T08:55:07.991386Z"
    },
    "papermill": {
     "duration": 0.029422,
     "end_time": "2022-10-31T08:55:07.994682",
     "exception": false,
     "start_time": "2022-10-31T08:55:07.965260",
     "status": "completed"
    },
    "tags": []
   },
   "outputs": [
    {
     "data": {
      "text/plain": [
       "(8000, 2)"
      ]
     },
     "execution_count": 10,
     "metadata": {},
     "output_type": "execute_result"
    }
   ],
   "source": [
    "df = df.drop_duplicates()\n",
    "df.shape"
   ]
  },
  {
   "cell_type": "code",
   "execution_count": 11,
   "id": "bf2db895",
   "metadata": {
    "execution": {
     "iopub.execute_input": "2022-10-31T08:55:08.014606Z",
     "iopub.status.busy": "2022-10-31T08:55:08.014329Z",
     "iopub.status.idle": "2022-10-31T08:55:08.025864Z",
     "shell.execute_reply": "2022-10-31T08:55:08.025016Z"
    },
    "papermill": {
     "duration": 0.023658,
     "end_time": "2022-10-31T08:55:08.027889",
     "exception": false,
     "start_time": "2022-10-31T08:55:08.004231",
     "status": "completed"
    },
    "tags": []
   },
   "outputs": [],
   "source": [
    "df['text_len'] = df.text.apply(len)\n",
    "df['headlines_len'] = df.headlines.apply(len)"
   ]
  },
  {
   "cell_type": "code",
   "execution_count": 12,
   "id": "02eafcbb",
   "metadata": {
    "execution": {
     "iopub.execute_input": "2022-10-31T08:55:08.048257Z",
     "iopub.status.busy": "2022-10-31T08:55:08.047992Z",
     "iopub.status.idle": "2022-10-31T08:55:08.804081Z",
     "shell.execute_reply": "2022-10-31T08:55:08.803246Z"
    },
    "papermill": {
     "duration": 0.769511,
     "end_time": "2022-10-31T08:55:08.806928",
     "exception": false,
     "start_time": "2022-10-31T08:55:08.037417",
     "status": "completed"
    },
    "tags": []
   },
   "outputs": [
    {
     "data": {
      "text/plain": [
       "<AxesSubplot:xlabel='headlines_len', ylabel='Density'>"
      ]
     },
     "execution_count": 12,
     "metadata": {},
     "output_type": "execute_result"
    },
    {
     "data": {
      "image/png": "[encoded data removed]",
      "text/plain": [
       "<Figure size 1080x360 with 2 Axes>"
      ]
     },
     "metadata": {
      "needs_background": "light"
     },
     "output_type": "display_data"
    }
   ],
   "source": [
    "fig, axes = plt.subplots(nrows=1,ncols=2,figsize=(15,5))\n",
    "sns.distplot(df.text_len,ax=axes[0],color='blue')\n",
    "sns.distplot(df.headlines_len,ax=axes[1],color='red')"
   ]
  },
  {
   "cell_type": "code",
   "execution_count": 13,
   "id": "baaf4b7f",
   "metadata": {
    "execution": {
     "iopub.execute_input": "2022-10-31T08:55:08.848250Z",
     "iopub.status.busy": "2022-10-31T08:55:08.847902Z",
     "iopub.status.idle": "2022-10-31T08:55:08.875712Z",
     "shell.execute_reply": "2022-10-31T08:55:08.874645Z"
    },
    "papermill": {
     "duration": 0.046653,
     "end_time": "2022-10-31T08:55:08.878086",
     "exception": false,
     "start_time": "2022-10-31T08:55:08.831433",
     "status": "completed"
    },
    "tags": []
   },
   "outputs": [
    {
     "data": {
      "text/html": [
       "<div>\n",
       "<style scoped>\n",
       "    .dataframe tbody tr th:only-of-type {\n",
       "        vertical-align: middle;\n",
       "    }\n",
       "\n",
       "    .dataframe tbody tr th {\n",
       "        vertical-align: top;\n",
       "    }\n",
       "\n",
       "    .dataframe thead th {\n",
       "        text-align: right;\n",
       "    }\n",
       "</style>\n",
       "<table border=\"1\" class=\"dataframe\">\n",
       "  <thead>\n",
       "    <tr style=\"text-align: right;\">\n",
       "      <th></th>\n",
       "      <th>text_len</th>\n",
       "      <th>headlines_len</th>\n",
       "    </tr>\n",
       "  </thead>\n",
       "  <tbody>\n",
       "    <tr>\n",
       "      <th>count</th>\n",
       "      <td>8000.000000</td>\n",
       "      <td>8000.000000</td>\n",
       "    </tr>\n",
       "    <tr>\n",
       "      <th>mean</th>\n",
       "      <td>356.952375</td>\n",
       "      <td>57.383375</td>\n",
       "    </tr>\n",
       "    <tr>\n",
       "      <th>std</th>\n",
       "      <td>24.393359</td>\n",
       "      <td>4.730428</td>\n",
       "    </tr>\n",
       "    <tr>\n",
       "      <th>min</th>\n",
       "      <td>266.000000</td>\n",
       "      <td>30.000000</td>\n",
       "    </tr>\n",
       "    <tr>\n",
       "      <th>25%</th>\n",
       "      <td>340.000000</td>\n",
       "      <td>56.000000</td>\n",
       "    </tr>\n",
       "    <tr>\n",
       "      <th>50%</th>\n",
       "      <td>357.000000</td>\n",
       "      <td>58.000000</td>\n",
       "    </tr>\n",
       "    <tr>\n",
       "      <th>75%</th>\n",
       "      <td>375.000000</td>\n",
       "      <td>60.000000</td>\n",
       "    </tr>\n",
       "    <tr>\n",
       "      <th>max</th>\n",
       "      <td>425.000000</td>\n",
       "      <td>72.000000</td>\n",
       "    </tr>\n",
       "  </tbody>\n",
       "</table>\n",
       "</div>"
      ],
      "text/plain": [
       "          text_len  headlines_len\n",
       "count  8000.000000    8000.000000\n",
       "mean    356.952375      57.383375\n",
       "std      24.393359       4.730428\n",
       "min     266.000000      30.000000\n",
       "25%     340.000000      56.000000\n",
       "50%     357.000000      58.000000\n",
       "75%     375.000000      60.000000\n",
       "max     425.000000      72.000000"
      ]
     },
     "execution_count": 13,
     "metadata": {},
     "output_type": "execute_result"
    }
   ],
   "source": [
    "df.describe()"
   ]
  },
  {
   "cell_type": "code",
   "execution_count": 14,
   "id": "37b79f54",
   "metadata": {
    "execution": {
     "iopub.execute_input": "2022-10-31T08:55:08.909956Z",
     "iopub.status.busy": "2022-10-31T08:55:08.909489Z",
     "iopub.status.idle": "2022-10-31T08:55:08.915927Z",
     "shell.execute_reply": "2022-10-31T08:55:08.914898Z"
    },
    "papermill": {
     "duration": 0.025708,
     "end_time": "2022-10-31T08:55:08.918850",
     "exception": false,
     "start_time": "2022-10-31T08:55:08.893142",
     "status": "completed"
    },
    "tags": []
   },
   "outputs": [],
   "source": [
    "max_text_len = 350\n",
    "max_headline_len = 50"
   ]
  },
  {
   "cell_type": "code",
   "execution_count": 15,
   "id": "7f98f7c5",
   "metadata": {
    "execution": {
     "iopub.execute_input": "2022-10-31T08:55:08.952959Z",
     "iopub.status.busy": "2022-10-31T08:55:08.952450Z",
     "iopub.status.idle": "2022-10-31T08:55:08.965324Z",
     "shell.execute_reply": "2022-10-31T08:55:08.964378Z"
    },
    "papermill": {
     "duration": 0.032967,
     "end_time": "2022-10-31T08:55:08.968308",
     "exception": false,
     "start_time": "2022-10-31T08:55:08.935341",
     "status": "completed"
    },
    "tags": []
   },
   "outputs": [],
   "source": [
    "df.headlines = df.headlines.apply(lambda x: '<START> ' + x + ' <END>')"
   ]
  },
  {
   "cell_type": "code",
   "execution_count": 16,
   "id": "673e99f0",
   "metadata": {
    "execution": {
     "iopub.execute_input": "2022-10-31T08:55:09.001621Z",
     "iopub.status.busy": "2022-10-31T08:55:09.001284Z",
     "iopub.status.idle": "2022-10-31T08:55:09.035720Z",
     "shell.execute_reply": "2022-10-31T08:55:09.034493Z"
    },
    "papermill": {
     "duration": 0.054829,
     "end_time": "2022-10-31T08:55:09.038795",
     "exception": false,
     "start_time": "2022-10-31T08:55:08.983966",
     "status": "completed"
    },
    "tags": []
   },
   "outputs": [],
   "source": [
    "def clean_text(text):\n",
    "    text = text.lower().strip()\n",
    "    # Replace certain special characters with their string equivalents\n",
    "    text = text.replace('%', ' percent')\n",
    "    text = text.replace('$', ' dollar ')\n",
    "    text = text.replace('₹', ' rupee ')\n",
    "    text = text.replace('€', ' euro ')\n",
    "    text = text.replace('@', ' at ')\n",
    "    text = text.replace(',000,000,000 ', 'b ')\n",
    "    text = text.replace(',000,000 ', 'm ')\n",
    "    text = text.replace(',000 ', 'k ')\n",
    "    text = re.sub(r'([0-9]+)000000000', r'\\1b', text)\n",
    "    text = re.sub(r'([0-9]+)000000', r'\\1m', text)\n",
    "    text = re.sub(r'([0-9]+)000', r'\\1k', text)\n",
    "\n",
    "    contractions = { \n",
    "    \"ain't\": \"am not\",\n",
    "    \"aren't\": \"are not\",\n",
    "    \"can't\": \"can not\",\n",
    "    \"can't've\": \"can not have\",\n",
    "    \"'cause\": \"because\",\n",
    "    \"could've\": \"could have\",\n",
    "    \"couldn't\": \"could not\",\n",
    "    \"couldn't've\": \"could not have\",\n",
    "    \"didn't\": \"did not\",\n",
    "    \"doesn't\": \"does not\",\n",
    "    \"don't\": \"do not\",\n",
    "    \"hadn't\": \"had not\",\n",
    "    \"hadn't've\": \"had not have\",\n",
    "    \"hasn't\": \"has not\",\n",
    "    \"haven't\": \"have not\",\n",
    "    \"he'd\": \"he would\",\n",
    "    \"he'd've\": \"he would have\",\n",
    "    \"he'll\": \"he will\",\n",
    "    \"he'll've\": \"he will have\",\n",
    "    \"he's\": \"he is\",\n",
    "    \"how'd\": \"how did\",\n",
    "    \"how'd'y\": \"how do you\",\n",
    "    \"how'll\": \"how will\",\n",
    "    \"how's\": \"how is\",\n",
    "    \"i'd\": \"i would\",\n",
    "    \"i'd've\": \"i would have\",\n",
    "    \"i'll\": \"i will\",\n",
    "    \"i'll've\": \"i will have\",\n",
    "    \"i'm\": \"i am\",\n",
    "    \"i've\": \"i have\",\n",
    "    \"isn't\": \"is not\",\n",
    "    \"it'd\": \"it would\",\n",
    "    \"it'd've\": \"it would have\",\n",
    "    \"it'll\": \"it will\",\n",
    "    \"it'll've\": \"it will have\",\n",
    "    \"it's\": \"it is\",\n",
    "    \"let's\": \"let us\",\n",
    "    \"ma'am\": \"madam\",\n",
    "    \"mayn't\": \"may not\",\n",
    "    \"might've\": \"might have\",\n",
    "    \"mightn't\": \"might not\",\n",
    "    \"mightn't've\": \"might not have\",\n",
    "    \"must've\": \"must have\",\n",
    "    \"mustn't\": \"must not\",\n",
    "    \"mustn't've\": \"must not have\",\n",
    "    \"needn't\": \"need not\",\n",
    "    \"needn't've\": \"need not have\",\n",
    "    \"o'clock\": \"of the clock\",\n",
    "    \"oughtn't\": \"ought not\",\n",
    "    \"oughtn't've\": \"ought not have\",\n",
    "    \"shan't\": \"shall not\",\n",
    "    \"sha'n't\": \"shall not\",\n",
    "    \"shan't've\": \"shall not have\",\n",
    "    \"she'd\": \"she would\",\n",
    "    \"she'd've\": \"she would have\",\n",
    "    \"she'll\": \"she will\",\n",
    "    \"she'll've\": \"she will have\",\n",
    "    \"she's\": \"she is\",\n",
    "    \"should've\": \"should have\",\n",
    "    \"shouldn't\": \"should not\",\n",
    "    \"shouldn't've\": \"should not have\",\n",
    "    \"so've\": \"so have\",\n",
    "    \"so's\": \"so as\",\n",
    "    \"that'd\": \"that would\",\n",
    "    \"that'd've\": \"that would have\",\n",
    "    \"that's\": \"that is\",\n",
    "    \"there'd\": \"there would\",\n",
    "    \"there'd've\": \"there would have\",\n",
    "    \"there's\": \"there is\",\n",
    "    \"they'd\": \"they would\",\n",
    "    \"they'd've\": \"they would have\",\n",
    "    \"they'll\": \"they will\",\n",
    "    \"they'll've\": \"they will have\",\n",
    "    \"they're\": \"they are\",\n",
    "    \"they've\": \"they have\",\n",
    "    \"to've\": \"to have\",\n",
    "    \"wasn't\": \"was not\",\n",
    "    \"we'd\": \"we would\",\n",
    "    \"we'd've\": \"we would have\",\n",
    "    \"we'll\": \"we will\",\n",
    "    \"we'll've\": \"we will have\",\n",
    "    \"we're\": \"we are\",\n",
    "    \"we've\": \"we have\",\n",
    "    \"weren't\": \"were not\",\n",
    "    \"what'll\": \"what will\",\n",
    "    \"what'll've\": \"what will have\",\n",
    "    \"what're\": \"what are\",\n",
    "    \"what's\": \"what is\",\n",
    "    \"what've\": \"what have\",\n",
    "    \"when's\": \"when is\",\n",
    "    \"when've\": \"when have\",\n",
    "    \"where'd\": \"where did\",\n",
    "    \"where's\": \"where is\",\n",
    "    \"where've\": \"where have\",\n",
    "    \"who'll\": \"who will\",\n",
    "    \"who'll've\": \"who will have\",\n",
    "    \"who's\": \"who is\",\n",
    "    \"who've\": \"who have\",\n",
    "    \"why's\": \"why is\",\n",
    "    \"why've\": \"why have\",\n",
    "    \"will've\": \"will have\",\n",
    "    \"won't\": \"will not\",\n",
    "    \"won't've\": \"will not have\",\n",
    "    \"would've\": \"would have\",\n",
    "    \"wouldn't\": \"would not\",\n",
    "    \"wouldn't've\": \"would not have\",\n",
    "    \"y'all\": \"you all\",\n",
    "    \"y'all'd\": \"you all would\",\n",
    "    \"y'all'd've\": \"you all would have\",\n",
    "    \"y'all're\": \"you all are\",\n",
    "    \"y'all've\": \"you all have\",\n",
    "    \"you'd\": \"you would\",\n",
    "    \"you'd've\": \"you would have\",\n",
    "    \"you'll\": \"you will\",\n",
    "    \"you'll've\": \"you will have\",\n",
    "    \"you're\": \"you are\",\n",
    "    \"you've\": \"you have\"\n",
    "    }\n",
    "\n",
    "    text_decontracted = []\n",
    "\n",
    "    for word in text.split():\n",
    "        if word in contractions:\n",
    "            word = contractions[word]\n",
    "\n",
    "        text_decontracted.append(word)\n",
    "        \n",
    "    text = ' '.join(text_decontracted)\n",
    "    text = text.replace(\"'ve\", \" have\")\n",
    "    text = text.replace(\"n't\", \" not\")\n",
    "    text = text.replace(\"'re\", \" are\")\n",
    "    text = text.replace(\"'ll\", \" will\")        \n",
    "    text = re.sub(r\"i'm\", \"i am\", text)\n",
    "    text = re.sub(r\"he's\", \"he is\", text)\n",
    "    text = re.sub(r\"she's\", \"she is\", text)\n",
    "    text = re.sub(r\"it's\", \"it is\", text)\n",
    "    text = re.sub(r\"that's\", \"that is\", text)\n",
    "    text = re.sub(r\"what's\", \"that is\", text)\n",
    "    text = re.sub(r\"where's\", \"where is\", text)\n",
    "    text = re.sub(r\"how's\", \"how is\", text)\n",
    "    text = re.sub(r\"\\'ll\", \" will\", text)\n",
    "    text = re.sub(r\"\\'ve\", \" have\", text)\n",
    "    text = re.sub(r\"\\'re\", \" are\", text)\n",
    "    text = re.sub(r\"\\'d\", \" would\", text)\n",
    "    text = re.sub(r\"\\'re\", \" are\", text)\n",
    "    text = re.sub(r\"won't\", \"will not\", text)\n",
    "    text = re.sub(r\"can't\", \"cannot\", text)\n",
    "    text = re.sub(r\"n't\", \" not\", text)\n",
    "    text = re.sub(r\"n'\", \"ng\", text)\n",
    "    text = re.sub(r\"'bout\", \"about\", text)\n",
    "    text = re.sub(r\"'til\", \"until\", text)\n",
    "    text = re.sub(r\"[-()\\\"#/@;:<>{}`+=~|.!?,]\", \"\", text)\n",
    "    pattern = re.compile('\\W')\n",
    "    text = re.sub(pattern, ' ', text).strip()\n",
    "    return text"
   ]
  },
  {
   "cell_type": "code",
   "execution_count": 17,
   "id": "fcdb60e0",
   "metadata": {
    "execution": {
     "iopub.execute_input": "2022-10-31T08:55:09.073727Z",
     "iopub.status.busy": "2022-10-31T08:55:09.073297Z",
     "iopub.status.idle": "2022-10-31T08:55:10.612505Z",
     "shell.execute_reply": "2022-10-31T08:55:10.611341Z"
    },
    "papermill": {
     "duration": 1.559007,
     "end_time": "2022-10-31T08:55:10.614769",
     "exception": false,
     "start_time": "2022-10-31T08:55:09.055762",
     "status": "completed"
    },
    "tags": []
   },
   "outputs": [
    {
     "data": {
      "application/vnd.jupyter.widget-view+json": {
       "model_id": "82bf3d9e5a8545e891933373e7f010b2",
       "version_major": 2,
       "version_minor": 0
      },
      "text/plain": [
       "  0%|          | 0/8000 [00:00<?, ?it/s]"
      ]
     },
     "metadata": {},
     "output_type": "display_data"
    },
    {
     "data": {
      "application/vnd.jupyter.widget-view+json": {
       "model_id": "1f83c81e90384f6fbeaddc981693d8ee",
       "version_major": 2,
       "version_minor": 0
      },
      "text/plain": [
       "  0%|          | 0/8000 [00:00<?, ?it/s]"
      ]
     },
     "metadata": {},
     "output_type": "display_data"
    }
   ],
   "source": [
    "df.text = df.text.progress_apply(clean_text)\n",
    "df.headlines = df.headlines.progress_apply(clean_text)"
   ]
  },
  {
   "cell_type": "code",
   "execution_count": 18,
   "id": "ed5b7842",
   "metadata": {
    "execution": {
     "iopub.execute_input": "2022-10-31T08:55:10.639447Z",
     "iopub.status.busy": "2022-10-31T08:55:10.639113Z",
     "iopub.status.idle": "2022-10-31T08:55:10.652702Z",
     "shell.execute_reply": "2022-10-31T08:55:10.651846Z"
    },
    "papermill": {
     "duration": 0.028183,
     "end_time": "2022-10-31T08:55:10.654877",
     "exception": false,
     "start_time": "2022-10-31T08:55:10.626694",
     "status": "completed"
    },
    "tags": []
   },
   "outputs": [
    {
     "data": {
      "text/html": [
       "<div>\n",
       "<style scoped>\n",
       "    .dataframe tbody tr th:only-of-type {\n",
       "        vertical-align: middle;\n",
       "    }\n",
       "\n",
       "    .dataframe tbody tr th {\n",
       "        vertical-align: top;\n",
       "    }\n",
       "\n",
       "    .dataframe thead th {\n",
       "        text-align: right;\n",
       "    }\n",
       "</style>\n",
       "<table border=\"1\" class=\"dataframe\">\n",
       "  <thead>\n",
       "    <tr style=\"text-align: right;\">\n",
       "      <th></th>\n",
       "      <th>headlines</th>\n",
       "      <th>text</th>\n",
       "      <th>text_len</th>\n",
       "      <th>headlines_len</th>\n",
       "    </tr>\n",
       "  </thead>\n",
       "  <tbody>\n",
       "    <tr>\n",
       "      <th>0</th>\n",
       "      <td>start noncongress candidate for prez would hav...</td>\n",
       "      <td>all india majliseittehadul muslimeen aimim pre...</td>\n",
       "      <td>384</td>\n",
       "      <td>60</td>\n",
       "    </tr>\n",
       "    <tr>\n",
       "      <th>1</th>\n",
       "      <td>start if nana was common man he would be immed...</td>\n",
       "      <td>tanushree dutta s lawyer n satpute has said if...</td>\n",
       "      <td>342</td>\n",
       "      <td>60</td>\n",
       "    </tr>\n",
       "    <tr>\n",
       "      <th>2</th>\n",
       "      <td>start irma world s longest storm to bear 185 m...</td>\n",
       "      <td>hurricane irma has become the world s longest ...</td>\n",
       "      <td>325</td>\n",
       "      <td>58</td>\n",
       "    </tr>\n",
       "    <tr>\n",
       "      <th>3</th>\n",
       "      <td>start best ideas born on campuses not fancy of...</td>\n",
       "      <td>addressing students at iit bombay s convocatio...</td>\n",
       "      <td>343</td>\n",
       "      <td>57</td>\n",
       "    </tr>\n",
       "    <tr>\n",
       "      <th>4</th>\n",
       "      <td>start former up cm akhilesh yadav bans media f...</td>\n",
       "      <td>interacting with the media during eid celebrat...</td>\n",
       "      <td>379</td>\n",
       "      <td>57</td>\n",
       "    </tr>\n",
       "  </tbody>\n",
       "</table>\n",
       "</div>"
      ],
      "text/plain": [
       "                                           headlines  \\\n",
       "0  start noncongress candidate for prez would hav...   \n",
       "1  start if nana was common man he would be immed...   \n",
       "2  start irma world s longest storm to bear 185 m...   \n",
       "3  start best ideas born on campuses not fancy of...   \n",
       "4  start former up cm akhilesh yadav bans media f...   \n",
       "\n",
       "                                                text  text_len  headlines_len  \n",
       "0  all india majliseittehadul muslimeen aimim pre...       384             60  \n",
       "1  tanushree dutta s lawyer n satpute has said if...       342             60  \n",
       "2  hurricane irma has become the world s longest ...       325             58  \n",
       "3  addressing students at iit bombay s convocatio...       343             57  \n",
       "4  interacting with the media during eid celebrat...       379             57  "
      ]
     },
     "execution_count": 18,
     "metadata": {},
     "output_type": "execute_result"
    }
   ],
   "source": [
    "df.head()"
   ]
  },
  {
   "cell_type": "code",
   "execution_count": 19,
   "id": "103563a0",
   "metadata": {
    "execution": {
     "iopub.execute_input": "2022-10-31T08:55:10.679392Z",
     "iopub.status.busy": "2022-10-31T08:55:10.678706Z",
     "iopub.status.idle": "2022-10-31T08:55:11.173318Z",
     "shell.execute_reply": "2022-10-31T08:55:11.172258Z"
    },
    "papermill": {
     "duration": 0.510051,
     "end_time": "2022-10-31T08:55:11.176033",
     "exception": false,
     "start_time": "2022-10-31T08:55:10.665982",
     "status": "completed"
    },
    "tags": []
   },
   "outputs": [],
   "source": [
    "x_tokenizer = Tokenizer()\n",
    "x_tokenizer.fit_on_texts(df.text)"
   ]
  },
  {
   "cell_type": "code",
   "execution_count": 20,
   "id": "cd04c3b2",
   "metadata": {
    "execution": {
     "iopub.execute_input": "2022-10-31T08:55:11.200535Z",
     "iopub.status.busy": "2022-10-31T08:55:11.200197Z",
     "iopub.status.idle": "2022-10-31T08:55:11.208307Z",
     "shell.execute_reply": "2022-10-31T08:55:11.207370Z"
    },
    "papermill": {
     "duration": 0.022521,
     "end_time": "2022-10-31T08:55:11.210610",
     "exception": false,
     "start_time": "2022-10-31T08:55:11.188089",
     "status": "completed"
    },
    "tags": []
   },
   "outputs": [
    {
     "data": {
      "text/plain": [
       "32583"
      ]
     },
     "execution_count": 20,
     "metadata": {},
     "output_type": "execute_result"
    }
   ],
   "source": [
    "text_vocab_length = len(x_tokenizer.index_word) + 1\n",
    "text_vocab_length"
   ]
  },
  {
   "cell_type": "code",
   "execution_count": 21,
   "id": "fb77173d",
   "metadata": {
    "execution": {
     "iopub.execute_input": "2022-10-31T08:55:11.234837Z",
     "iopub.status.busy": "2022-10-31T08:55:11.234534Z",
     "iopub.status.idle": "2022-10-31T08:55:11.602181Z",
     "shell.execute_reply": "2022-10-31T08:55:11.601213Z"
    },
    "papermill": {
     "duration": 0.382822,
     "end_time": "2022-10-31T08:55:11.604927",
     "exception": false,
     "start_time": "2022-10-31T08:55:11.222105",
     "status": "completed"
    },
    "tags": []
   },
   "outputs": [],
   "source": [
    "text_sequences = x_tokenizer.texts_to_sequences(df.text)\n",
    "text_pad_sequences = pad_sequences(text_sequences,maxlen=max_text_len,padding='post')"
   ]
  },
  {
   "cell_type": "code",
   "execution_count": 22,
   "id": "512e8984",
   "metadata": {
    "execution": {
     "iopub.execute_input": "2022-10-31T08:55:11.630448Z",
     "iopub.status.busy": "2022-10-31T08:55:11.628683Z",
     "iopub.status.idle": "2022-10-31T08:55:11.788082Z",
     "shell.execute_reply": "2022-10-31T08:55:11.787041Z"
    },
    "papermill": {
     "duration": 0.174097,
     "end_time": "2022-10-31T08:55:11.790524",
     "exception": false,
     "start_time": "2022-10-31T08:55:11.616427",
     "status": "completed"
    },
    "tags": []
   },
   "outputs": [],
   "source": [
    "y_tokenizer = Tokenizer()\n",
    "y_tokenizer.fit_on_texts(df.headlines)"
   ]
  },
  {
   "cell_type": "code",
   "execution_count": 23,
   "id": "7ff7e635",
   "metadata": {
    "execution": {
     "iopub.execute_input": "2022-10-31T08:55:11.816299Z",
     "iopub.status.busy": "2022-10-31T08:55:11.815965Z",
     "iopub.status.idle": "2022-10-31T08:55:11.822254Z",
     "shell.execute_reply": "2022-10-31T08:55:11.821325Z"
    },
    "papermill": {
     "duration": 0.021697,
     "end_time": "2022-10-31T08:55:11.824434",
     "exception": false,
     "start_time": "2022-10-31T08:55:11.802737",
     "status": "completed"
    },
    "tags": []
   },
   "outputs": [
    {
     "data": {
      "text/plain": [
       "13451"
      ]
     },
     "execution_count": 23,
     "metadata": {},
     "output_type": "execute_result"
    }
   ],
   "source": [
    "headline_vocab_length = len(y_tokenizer.index_word) + 1\n",
    "headline_vocab_length"
   ]
  },
  {
   "cell_type": "code",
   "execution_count": 24,
   "id": "c6b3735b",
   "metadata": {
    "execution": {
     "iopub.execute_input": "2022-10-31T08:55:11.848830Z",
     "iopub.status.busy": "2022-10-31T08:55:11.847873Z",
     "iopub.status.idle": "2022-10-31T08:55:11.982589Z",
     "shell.execute_reply": "2022-10-31T08:55:11.981690Z"
    },
    "papermill": {
     "duration": 0.149267,
     "end_time": "2022-10-31T08:55:11.984972",
     "exception": false,
     "start_time": "2022-10-31T08:55:11.835705",
     "status": "completed"
    },
    "tags": []
   },
   "outputs": [],
   "source": [
    "headline_sequences = y_tokenizer.texts_to_sequences(df.headlines)\n",
    "headline_pad_sequences = pad_sequences(headline_sequences,maxlen=max_headline_len,padding='post')"
   ]
  },
  {
   "cell_type": "code",
   "execution_count": 25,
   "id": "96f8e50c",
   "metadata": {
    "execution": {
     "iopub.execute_input": "2022-10-31T08:55:12.009507Z",
     "iopub.status.busy": "2022-10-31T08:55:12.008849Z",
     "iopub.status.idle": "2022-10-31T08:55:12.028518Z",
     "shell.execute_reply": "2022-10-31T08:55:12.027623Z"
    },
    "papermill": {
     "duration": 0.034375,
     "end_time": "2022-10-31T08:55:12.030600",
     "exception": false,
     "start_time": "2022-10-31T08:55:11.996225",
     "status": "completed"
    },
    "tags": []
   },
   "outputs": [],
   "source": [
    "class AttentionLayer(tf.keras.layers.Layer):\n",
    "    \"\"\"\n",
    "    This class implements Bahdanau attention (https://arxiv.org/pdf/1409.0473.pdf).\n",
    "    There are three sets of weights introduced W_a, U_a, and V_a\n",
    "     \"\"\"\n",
    "\n",
    "    def __init__(self, **kwargs):\n",
    "        super(AttentionLayer, self).__init__(**kwargs)\n",
    "\n",
    "    def build(self, input_shape):\n",
    "        assert isinstance(input_shape, list)\n",
    "        # Create a trainable weight variable for this layer.\n",
    "\n",
    "        self.W_a = self.add_weight(name='W_a',\n",
    "                                   shape=tf.TensorShape((input_shape[0][2], input_shape[0][2])),\n",
    "                                   initializer='uniform',\n",
    "                                   trainable=True)\n",
    "        self.U_a = self.add_weight(name='U_a',\n",
    "                                   shape=tf.TensorShape((input_shape[1][2], input_shape[0][2])),\n",
    "                                   initializer='uniform',\n",
    "                                   trainable=True)\n",
    "        self.V_a = self.add_weight(name='V_a',\n",
    "                                   shape=tf.TensorShape((input_shape[0][2], 1)),\n",
    "                                   initializer='uniform',\n",
    "                                   trainable=True)\n",
    "\n",
    "        super(AttentionLayer, self).build(input_shape)  # Be sure to call this at the end\n",
    "\n",
    "    def call(self, inputs):\n",
    "        \"\"\"\n",
    "        inputs: [encoder_output_sequence, decoder_output_sequence]\n",
    "        \"\"\"\n",
    "        assert type(inputs) == list\n",
    "        encoder_out_seq, decoder_out_seq = inputs\n",
    "\n",
    "        logger.debug(f\"encoder_out_seq.shape = {encoder_out_seq.shape}\")\n",
    "        logger.debug(f\"decoder_out_seq.shape = {decoder_out_seq.shape}\")\n",
    "\n",
    "        def energy_step(inputs, states):\n",
    "            \"\"\" Step function for computing energy for a single decoder state\n",
    "            inputs: (batchsize * 1 * de_in_dim)\n",
    "            states: (batchsize * 1 * de_latent_dim)\n",
    "            \"\"\"\n",
    "\n",
    "            logger.debug(\"Running energy computation step\")\n",
    "\n",
    "            if not isinstance(states, (list, tuple)):\n",
    "                raise TypeError(f\"States must be an iterable. Got {states} of type {type(states)}\")\n",
    "\n",
    "            encoder_full_seq = states[-1]\n",
    "\n",
    "            \"\"\" Computing S.Wa where S=[s0, s1, ..., si]\"\"\"\n",
    "            # <= batch size * en_seq_len * latent_dim\n",
    "            W_a_dot_s = K.dot(encoder_full_seq, self.W_a)\n",
    "\n",
    "            \"\"\" Computing hj.Ua \"\"\"\n",
    "            U_a_dot_h = K.expand_dims(K.dot(inputs, self.U_a), 1)  # <= batch_size, 1, latent_dim\n",
    "\n",
    "            logger.debug(f\"U_a_dot_h.shape = {U_a_dot_h.shape}\")\n",
    "\n",
    "            \"\"\" tanh(S.Wa + hj.Ua) \"\"\"\n",
    "            # <= batch_size*en_seq_len, latent_dim\n",
    "            Ws_plus_Uh = K.tanh(W_a_dot_s + U_a_dot_h)\n",
    "\n",
    "            logger.debug(f\"Ws_plus_Uh.shape = {Ws_plus_Uh.shape}\")\n",
    "\n",
    "            \"\"\" softmax(va.tanh(S.Wa + hj.Ua)) \"\"\"\n",
    "            # <= batch_size, en_seq_len\n",
    "            e_i = K.squeeze(K.dot(Ws_plus_Uh, self.V_a), axis=-1)\n",
    "            # <= batch_size, en_seq_len\n",
    "            e_i = K.softmax(e_i)\n",
    "\n",
    "            logger.debug(f\"ei.shape = {e_i.shape}\")\n",
    "\n",
    "            return e_i, [e_i]\n",
    "\n",
    "        def context_step(inputs, states):\n",
    "            \"\"\" Step function for computing ci using ei \"\"\"\n",
    "\n",
    "            logger.debug(\"Running attention vector computation step\")\n",
    "\n",
    "            if not isinstance(states, (list, tuple)):\n",
    "                raise TypeError(f\"States must be an iterable. Got {states} of type {type(states)}\")\n",
    "\n",
    "            encoder_full_seq = states[-1]\n",
    "\n",
    "            # <= batch_size, hidden_size\n",
    "            c_i = K.sum(encoder_full_seq * K.expand_dims(inputs, -1), axis=1)\n",
    "\n",
    "            logger.debug(f\"ci.shape = {c_i.shape}\")\n",
    "\n",
    "            return c_i, [c_i]\n",
    "\n",
    "        # we don't maintain states between steps when computing attention\n",
    "        # attention is stateless, so we're passing a fake state for RNN step function\n",
    "        fake_state_c = K.sum(encoder_out_seq, axis=1)\n",
    "        fake_state_e = K.sum(encoder_out_seq, axis=2)  # <= (batch_size, enc_seq_len, latent_dim\n",
    "\n",
    "        \"\"\" Computing energy outputs \"\"\"\n",
    "        # e_outputs => (batch_size, de_seq_len, en_seq_len)\n",
    "        last_out, e_outputs, _ = K.rnn(\n",
    "            energy_step, decoder_out_seq, [fake_state_e], constants=[encoder_out_seq]\n",
    "        )\n",
    "\n",
    "        \"\"\" Computing context vectors \"\"\"\n",
    "        last_out, c_outputs, _ = K.rnn(\n",
    "            context_step, e_outputs, [fake_state_c], constants=[encoder_out_seq]\n",
    "        )\n",
    "\n",
    "        return c_outputs, e_outputs\n",
    "\n",
    "    def compute_output_shape(self, input_shape):\n",
    "        \"\"\" Outputs produced by the layer \"\"\"\n",
    "        return [\n",
    "            tf.TensorShape((input_shape[1][0], input_shape[1][1], input_shape[1][2])),\n",
    "            tf.TensorShape((input_shape[1][0], input_shape[1][1], input_shape[0][1]))\n",
    "        ]"
   ]
  },
  {
   "cell_type": "code",
   "execution_count": 26,
   "id": "a637fa49",
   "metadata": {
    "execution": {
     "iopub.execute_input": "2022-10-31T08:55:12.055952Z",
     "iopub.status.busy": "2022-10-31T08:55:12.054398Z",
     "iopub.status.idle": "2022-10-31T08:55:17.633926Z",
     "shell.execute_reply": "2022-10-31T08:55:17.631611Z"
    },
    "papermill": {
     "duration": 5.594159,
     "end_time": "2022-10-31T08:55:17.636177",
     "exception": false,
     "start_time": "2022-10-31T08:55:12.042018",
     "status": "completed"
    },
    "tags": []
   },
   "outputs": [
    {
     "name": "stderr",
     "output_type": "stream",
     "text": [
      "2022-10-31 08:55:12.211120: I tensorflow/stream_executor/cuda/cuda_gpu_executor.cc:937] successful NUMA node read from SysFS had negative value (-1), but there must be at least one NUMA node, so returning NUMA node zero\n",
      "2022-10-31 08:55:12.212230: I tensorflow/stream_executor/cuda/cuda_gpu_executor.cc:937] successful NUMA node read from SysFS had negative value (-1), but there must be at least one NUMA node, so returning NUMA node zero\n",
      "2022-10-31 08:55:12.383059: I tensorflow/stream_executor/cuda/cuda_gpu_executor.cc:937] successful NUMA node read from SysFS had negative value (-1), but there must be at least one NUMA node, so returning NUMA node zero\n",
      "2022-10-31 08:55:12.384114: I tensorflow/stream_executor/cuda/cuda_gpu_executor.cc:937] successful NUMA node read from SysFS had negative value (-1), but there must be at least one NUMA node, so returning NUMA node zero\n",
      "2022-10-31 08:55:12.384962: I tensorflow/stream_executor/cuda/cuda_gpu_executor.cc:937] successful NUMA node read from SysFS had negative value (-1), but there must be at least one NUMA node, so returning NUMA node zero\n",
      "2022-10-31 08:55:12.385759: I tensorflow/stream_executor/cuda/cuda_gpu_executor.cc:937] successful NUMA node read from SysFS had negative value (-1), but there must be at least one NUMA node, so returning NUMA node zero\n",
      "2022-10-31 08:55:12.387175: I tensorflow/core/platform/cpu_feature_guard.cc:142] This TensorFlow binary is optimized with oneAPI Deep Neural Network Library (oneDNN) to use the following CPU instructions in performance-critical operations:  AVX2 AVX512F FMA\n",
      "To enable them in other operations, rebuild TensorFlow with the appropriate compiler flags.\n",
      "2022-10-31 08:55:12.657080: I tensorflow/stream_executor/cuda/cuda_gpu_executor.cc:937] successful NUMA node read from SysFS had negative value (-1), but there must be at least one NUMA node, so returning NUMA node zero\n",
      "2022-10-31 08:55:12.658092: I tensorflow/stream_executor/cuda/cuda_gpu_executor.cc:937] successful NUMA node read from SysFS had negative value (-1), but there must be at least one NUMA node, so returning NUMA node zero\n",
      "2022-10-31 08:55:12.658970: I tensorflow/stream_executor/cuda/cuda_gpu_executor.cc:937] successful NUMA node read from SysFS had negative value (-1), but there must be at least one NUMA node, so returning NUMA node zero\n",
      "2022-10-31 08:55:12.659757: I tensorflow/stream_executor/cuda/cuda_gpu_executor.cc:937] successful NUMA node read from SysFS had negative value (-1), but there must be at least one NUMA node, so returning NUMA node zero\n",
      "2022-10-31 08:55:12.660549: I tensorflow/stream_executor/cuda/cuda_gpu_executor.cc:937] successful NUMA node read from SysFS had negative value (-1), but there must be at least one NUMA node, so returning NUMA node zero\n",
      "2022-10-31 08:55:12.661335: I tensorflow/stream_executor/cuda/cuda_gpu_executor.cc:937] successful NUMA node read from SysFS had negative value (-1), but there must be at least one NUMA node, so returning NUMA node zero\n",
      "2022-10-31 08:55:16.013144: I tensorflow/stream_executor/cuda/cuda_gpu_executor.cc:937] successful NUMA node read from SysFS had negative value (-1), but there must be at least one NUMA node, so returning NUMA node zero\n",
      "2022-10-31 08:55:16.014180: I tensorflow/stream_executor/cuda/cuda_gpu_executor.cc:937] successful NUMA node read from SysFS had negative value (-1), but there must be at least one NUMA node, so returning NUMA node zero\n",
      "2022-10-31 08:55:16.015071: I tensorflow/stream_executor/cuda/cuda_gpu_executor.cc:937] successful NUMA node read from SysFS had negative value (-1), but there must be at least one NUMA node, so returning NUMA node zero\n",
      "2022-10-31 08:55:16.015946: I tensorflow/stream_executor/cuda/cuda_gpu_executor.cc:937] successful NUMA node read from SysFS had negative value (-1), but there must be at least one NUMA node, so returning NUMA node zero\n",
      "2022-10-31 08:55:16.016777: I tensorflow/stream_executor/cuda/cuda_gpu_executor.cc:937] successful NUMA node read from SysFS had negative value (-1), but there must be at least one NUMA node, so returning NUMA node zero\n",
      "2022-10-31 08:55:16.017566: I tensorflow/core/common_runtime/gpu/gpu_device.cc:1510] Created device /job:localhost/replica:0/task:0/device:GPU:0 with 13789 MB memory:  -> device: 0, name: Tesla T4, pci bus id: 0000:00:04.0, compute capability: 7.5\n",
      "2022-10-31 08:55:16.021890: I tensorflow/stream_executor/cuda/cuda_gpu_executor.cc:937] successful NUMA node read from SysFS had negative value (-1), but there must be at least one NUMA node, so returning NUMA node zero\n",
      "2022-10-31 08:55:16.022632: I tensorflow/core/common_runtime/gpu/gpu_device.cc:1510] Created device /job:localhost/replica:0/task:0/device:GPU:1 with 13789 MB memory:  -> device: 1, name: Tesla T4, pci bus id: 0000:00:05.0, compute capability: 7.5\n"
     ]
    },
    {
     "name": "stdout",
     "output_type": "stream",
     "text": [
      "Model: \"model\"\n",
      "__________________________________________________________________________________________________\n",
      "Layer (type)                    Output Shape         Param #     Connected to                     \n",
      "==================================================================================================\n",
      "input_1 (InputLayer)            [(None, 350)]        0                                            \n",
      "__________________________________________________________________________________________________\n",
      "embedding (Embedding)           (None, 350, 100)     3258300     input_1[0][0]                    \n",
      "__________________________________________________________________________________________________\n",
      "lstm (LSTM)                     [(None, 350, 300), ( 481200      embedding[0][0]                  \n",
      "__________________________________________________________________________________________________\n",
      "input_2 (InputLayer)            [(None, None)]       0                                            \n",
      "__________________________________________________________________________________________________\n",
      "lstm_1 (LSTM)                   [(None, 350, 300), ( 721200      lstm[0][0]                       \n",
      "__________________________________________________________________________________________________\n",
      "embedding_1 (Embedding)         (None, None, 100)    1345100     input_2[0][0]                    \n",
      "__________________________________________________________________________________________________\n",
      "lstm_2 (LSTM)                   [(None, 350, 300), ( 721200      lstm_1[0][0]                     \n",
      "__________________________________________________________________________________________________\n",
      "lstm_3 (LSTM)                   [(None, None, 300),  481200      embedding_1[0][0]                \n",
      "                                                                 lstm_2[0][1]                     \n",
      "                                                                 lstm_2[0][2]                     \n",
      "__________________________________________________________________________________________________\n",
      "attention_layer (AttentionLayer ((None, None, 300),  180300      lstm_2[0][0]                     \n",
      "                                                                 lstm_3[0][0]                     \n",
      "__________________________________________________________________________________________________\n",
      "concat_layer (Concatenate)      (None, None, 600)    0           lstm_3[0][0]                     \n",
      "                                                                 attention_layer[0][0]            \n",
      "__________________________________________________________________________________________________\n",
      "time_distributed (TimeDistribut (None, None, 13451)  8084051     concat_layer[0][0]               \n",
      "==================================================================================================\n",
      "Total params: 15,272,551\n",
      "Trainable params: 15,272,551\n",
      "Non-trainable params: 0\n",
      "__________________________________________________________________________________________________\n"
     ]
    }
   ],
   "source": [
    "K.clear_session()\n",
    "\n",
    "latent_dim = 300 \n",
    "embedding_dim = 100 \n",
    "\n",
    "encoder_inputs = Input(shape=(max_text_len,))\n",
    "encoder_emb = Embedding(text_vocab_length, embedding_dim, trainable=True)(encoder_inputs)\n",
    "\n",
    "encoder_lstm1 = LSTM(latent_dim, return_sequences=True, return_state=True, dropout=0.3, recurrent_dropout=0.2)\n",
    "encoder_output1, state_h1, state_c1 = encoder_lstm1(encoder_emb)\n",
    "\n",
    "encoder_lstm2 = LSTM(latent_dim, return_sequences=True, return_state=True, dropout=0.3, recurrent_dropout=0.2)\n",
    "encoder_output2, state_h2, state_c2 = encoder_lstm2(encoder_output1)\n",
    "\n",
    "encoder_lstm = LSTM(latent_dim, return_sequences=True, return_state=True, dropout=0.3, recurrent_dropout=0.2)\n",
    "encoder_outputs, state_h, state_c = encoder_lstm(encoder_output2)\n",
    "encoder_states = [state_h,state_c]\n",
    "\n",
    "decoder_inputs = Input(shape=(None,))\n",
    "decoder_emb = Embedding(headline_vocab_length, embedding_dim, trainable=True)(decoder_inputs)\n",
    "\n",
    "decoder_lstm = LSTM(latent_dim, return_sequences=True, return_state=True, dropout=0.3, recurrent_dropout=0.2)\n",
    "decoder_outputs, decoder_fwd_state, decoder_bwd_state = decoder_lstm(decoder_emb, initial_state=encoder_states) \n",
    "\n",
    "attn_layer = AttentionLayer(name='attention_layer') \n",
    "attn_outputs, attn_states = attn_layer([encoder_outputs, decoder_outputs]) \n",
    "\n",
    "decoder_concat_outputs = Concatenate(axis=-1,name='concat_layer')([decoder_outputs, attn_outputs])\n",
    "\n",
    "decoder_dense = TimeDistributed(Dense(headline_vocab_length,activation='softmax'))\n",
    "decoder_outputs = decoder_dense(decoder_concat_outputs)\n",
    "\n",
    "model = Model([encoder_inputs, decoder_inputs], decoder_outputs)\n",
    "model.summary()"
   ]
  },
  {
   "cell_type": "code",
   "execution_count": 27,
   "id": "40ae7ca7",
   "metadata": {
    "execution": {
     "iopub.execute_input": "2022-10-31T08:55:17.660412Z",
     "iopub.status.busy": "2022-10-31T08:55:17.660108Z",
     "iopub.status.idle": "2022-10-31T08:55:18.929419Z",
     "shell.execute_reply": "2022-10-31T08:55:18.928199Z"
    },
    "papermill": {
     "duration": 1.285282,
     "end_time": "2022-10-31T08:55:18.932898",
     "exception": false,
     "start_time": "2022-10-31T08:55:17.647616",
     "status": "completed"
    },
    "tags": []
   },
   "outputs": [
    {
     "data": {
      "image/png": "[encoded data removed]",
      "text/plain": [
       "<IPython.core.display.Image object>"
      ]
     },
     "execution_count": 27,
     "metadata": {},
     "output_type": "execute_result"
    }
   ],
   "source": [
    "plot_model(model,'model.png',show_shapes=True,dpi=100)"
   ]
  },
  {
   "cell_type": "code",
   "execution_count": 28,
   "id": "0bdb1fcf",
   "metadata": {
    "execution": {
     "iopub.execute_input": "2022-10-31T08:55:18.960259Z",
     "iopub.status.busy": "2022-10-31T08:55:18.959931Z",
     "iopub.status.idle": "2022-10-31T08:55:18.977366Z",
     "shell.execute_reply": "2022-10-31T08:55:18.976513Z"
    },
    "papermill": {
     "duration": 0.033481,
     "end_time": "2022-10-31T08:55:18.979740",
     "exception": false,
     "start_time": "2022-10-31T08:55:18.946259",
     "status": "completed"
    },
    "tags": []
   },
   "outputs": [],
   "source": [
    "model.compile(loss='sparse_categorical_crossentropy',optimizer='rmsprop',metrics='accuracy')"
   ]
  },
  {
   "cell_type": "code",
   "execution_count": 29,
   "id": "9ddb6200",
   "metadata": {
    "execution": {
     "iopub.execute_input": "2022-10-31T08:55:19.006136Z",
     "iopub.status.busy": "2022-10-31T08:55:19.005867Z",
     "iopub.status.idle": "2022-10-31T08:55:19.019905Z",
     "shell.execute_reply": "2022-10-31T08:55:19.019053Z"
    },
    "papermill": {
     "duration": 0.029638,
     "end_time": "2022-10-31T08:55:19.021903",
     "exception": false,
     "start_time": "2022-10-31T08:55:18.992265",
     "status": "completed"
    },
    "tags": []
   },
   "outputs": [],
   "source": [
    "X_train, X_test, y_train, y_test = train_test_split(text_pad_sequences,headline_pad_sequences,test_size=0.25,shuffle=True,random_state=101)"
   ]
  },
  {
   "cell_type": "code",
   "execution_count": 30,
   "id": "9082b9b6",
   "metadata": {
    "execution": {
     "iopub.execute_input": "2022-10-31T08:55:19.048154Z",
     "iopub.status.busy": "2022-10-31T08:55:19.047519Z",
     "iopub.status.idle": "2022-10-31T13:31:50.935483Z",
     "shell.execute_reply": "2022-10-31T13:31:50.934304Z"
    },
    "papermill": {
     "duration": 16591.904068,
     "end_time": "2022-10-31T13:31:50.938235",
     "exception": false,
     "start_time": "2022-10-31T08:55:19.034167",
     "status": "completed"
    },
    "tags": []
   },
   "outputs": [
    {
     "name": "stderr",
     "output_type": "stream",
     "text": [
      "2022-10-31 08:55:19.124336: I tensorflow/compiler/mlir/mlir_graph_optimization_pass.cc:185] None of the MLIR Optimization Passes are enabled (registered 2)\n"
     ]
    },
    {
     "name": "stdout",
     "output_type": "stream",
     "text": [
      "Epoch 1/50\n",
      "47/47 [==============================] - 346s 7s/step - loss: 2.2529 - accuracy: 0.7644 - val_loss: 1.7169 - val_accuracy: 0.7846\n",
      "\n",
      "Epoch 00001: val_accuracy improved from -inf to 0.78456, saving model to checkpoint/\n"
     ]
    },
    {
     "name": "stderr",
     "output_type": "stream",
     "text": [
      "2022-10-31 09:01:08.568114: W tensorflow/python/util/util.cc:348] Sets are not currently considered sequences, but this may change in the future, so consider avoiding using them.\n"
     ]
    },
    {
     "name": "stdout",
     "output_type": "stream",
     "text": [
      "Epoch 2/50\n",
      "47/47 [==============================] - 337s 7s/step - loss: 1.6782 - accuracy: 0.7900 - val_loss: 1.6979 - val_accuracy: 0.8024\n",
      "\n",
      "Epoch 00002: val_accuracy improved from 0.78456 to 0.80239, saving model to checkpoint/\n",
      "Epoch 3/50\n",
      "47/47 [==============================] - 333s 7s/step - loss: 1.6141 - accuracy: 0.8029 - val_loss: 1.6856 - val_accuracy: 0.8035\n",
      "\n",
      "Epoch 00003: val_accuracy improved from 0.80239 to 0.80350, saving model to checkpoint/\n",
      "Epoch 4/50\n",
      "47/47 [==============================] - 343s 7s/step - loss: 1.5750 - accuracy: 0.8041 - val_loss: 1.6541 - val_accuracy: 0.8041\n",
      "\n",
      "Epoch 00004: val_accuracy improved from 0.80350 to 0.80410, saving model to checkpoint/\n",
      "Epoch 5/50\n",
      "47/47 [==============================] - 325s 7s/step - loss: 1.5370 - accuracy: 0.8045 - val_loss: 1.6401 - val_accuracy: 0.8044\n",
      "\n",
      "Epoch 00005: val_accuracy improved from 0.80410 to 0.80441, saving model to checkpoint/\n",
      "Epoch 6/50\n",
      "47/47 [==============================] - 318s 7s/step - loss: 1.5064 - accuracy: 0.8050 - val_loss: 1.6285 - val_accuracy: 0.8054\n",
      "\n",
      "Epoch 00006: val_accuracy improved from 0.80441 to 0.80537, saving model to checkpoint/\n",
      "Epoch 7/50\n",
      "47/47 [==============================] - 319s 7s/step - loss: 1.4779 - accuracy: 0.8057 - val_loss: 1.6299 - val_accuracy: 0.8056\n",
      "\n",
      "Epoch 00007: val_accuracy improved from 0.80537 to 0.80558, saving model to checkpoint/\n",
      "Epoch 8/50\n",
      "47/47 [==============================] - 322s 7s/step - loss: 1.4502 - accuracy: 0.8063 - val_loss: 1.6256 - val_accuracy: 0.8058\n",
      "\n",
      "Epoch 00008: val_accuracy improved from 0.80558 to 0.80583, saving model to checkpoint/\n",
      "Epoch 9/50\n",
      "47/47 [==============================] - 319s 7s/step - loss: 1.4224 - accuracy: 0.8067 - val_loss: 1.6299 - val_accuracy: 0.8062\n",
      "\n",
      "Epoch 00009: val_accuracy improved from 0.80583 to 0.80616, saving model to checkpoint/\n",
      "Epoch 10/50\n",
      "47/47 [==============================] - 321s 7s/step - loss: 1.3945 - accuracy: 0.8072 - val_loss: 1.6166 - val_accuracy: 0.8062\n",
      "\n",
      "Epoch 00010: val_accuracy improved from 0.80616 to 0.80617, saving model to checkpoint/\n",
      "Epoch 11/50\n",
      "47/47 [==============================] - 315s 7s/step - loss: 1.3665 - accuracy: 0.8077 - val_loss: 1.6180 - val_accuracy: 0.8061\n",
      "\n",
      "Epoch 00011: val_accuracy did not improve from 0.80617\n",
      "Epoch 12/50\n",
      "47/47 [==============================] - 315s 7s/step - loss: 1.3363 - accuracy: 0.8085 - val_loss: 1.6272 - val_accuracy: 0.8059\n",
      "\n",
      "Epoch 00012: val_accuracy did not improve from 0.80617\n",
      "Epoch 13/50\n",
      "47/47 [==============================] - 314s 7s/step - loss: 1.3076 - accuracy: 0.8090 - val_loss: 1.6195 - val_accuracy: 0.8069\n",
      "\n",
      "Epoch 00013: val_accuracy improved from 0.80617 to 0.80689, saving model to checkpoint/\n",
      "Epoch 14/50\n",
      "47/47 [==============================] - 321s 7s/step - loss: 1.2765 - accuracy: 0.8097 - val_loss: 1.6236 - val_accuracy: 0.8074\n",
      "\n",
      "Epoch 00014: val_accuracy improved from 0.80689 to 0.80737, saving model to checkpoint/\n",
      "Epoch 15/50\n",
      "47/47 [==============================] - 320s 7s/step - loss: 1.2471 - accuracy: 0.8102 - val_loss: 1.6256 - val_accuracy: 0.8065\n",
      "\n",
      "Epoch 00015: val_accuracy did not improve from 0.80737\n",
      "Epoch 16/50\n",
      "47/47 [==============================] - 314s 7s/step - loss: 1.2172 - accuracy: 0.8108 - val_loss: 1.6360 - val_accuracy: 0.8066\n",
      "\n",
      "Epoch 00016: val_accuracy did not improve from 0.80737\n",
      "Epoch 17/50\n",
      "47/47 [==============================] - 321s 7s/step - loss: 1.1870 - accuracy: 0.8119 - val_loss: 1.6342 - val_accuracy: 0.8067\n",
      "\n",
      "Epoch 00017: val_accuracy did not improve from 0.80737\n",
      "Epoch 18/50\n",
      "47/47 [==============================] - 324s 7s/step - loss: 1.1579 - accuracy: 0.8129 - val_loss: 1.6341 - val_accuracy: 0.8070\n",
      "\n",
      "Epoch 00018: val_accuracy did not improve from 0.80737\n",
      "Epoch 19/50\n",
      "47/47 [==============================] - 324s 7s/step - loss: 1.1285 - accuracy: 0.8138 - val_loss: 1.6392 - val_accuracy: 0.8072\n",
      "\n",
      "Epoch 00019: val_accuracy did not improve from 0.80737\n",
      "Epoch 20/50\n",
      "47/47 [==============================] - 316s 7s/step - loss: 1.0981 - accuracy: 0.8152 - val_loss: 1.6410 - val_accuracy: 0.8075\n",
      "\n",
      "Epoch 00020: val_accuracy improved from 0.80737 to 0.80748, saving model to checkpoint/\n",
      "Epoch 21/50\n",
      "47/47 [==============================] - 315s 7s/step - loss: 1.0682 - accuracy: 0.8169 - val_loss: 1.6467 - val_accuracy: 0.8077\n",
      "\n",
      "Epoch 00021: val_accuracy improved from 0.80748 to 0.80771, saving model to checkpoint/\n",
      "Epoch 22/50\n",
      "47/47 [==============================] - 312s 7s/step - loss: 1.0404 - accuracy: 0.8189 - val_loss: 1.6552 - val_accuracy: 0.8069\n",
      "\n",
      "Epoch 00022: val_accuracy did not improve from 0.80771\n",
      "Epoch 23/50\n",
      "47/47 [==============================] - 313s 7s/step - loss: 1.0126 - accuracy: 0.8210 - val_loss: 1.6596 - val_accuracy: 0.8067\n",
      "\n",
      "Epoch 00023: val_accuracy did not improve from 0.80771\n",
      "Epoch 24/50\n",
      "47/47 [==============================] - 312s 7s/step - loss: 0.9838 - accuracy: 0.8240 - val_loss: 1.6631 - val_accuracy: 0.8072\n",
      "\n",
      "Epoch 00024: val_accuracy did not improve from 0.80771\n",
      "Epoch 25/50\n",
      "47/47 [==============================] - 312s 7s/step - loss: 0.9575 - accuracy: 0.8268 - val_loss: 1.6687 - val_accuracy: 0.8070\n",
      "\n",
      "Epoch 00025: val_accuracy did not improve from 0.80771\n",
      "Epoch 26/50\n",
      "47/47 [==============================] - 313s 7s/step - loss: 0.9280 - accuracy: 0.8304 - val_loss: 1.6779 - val_accuracy: 0.8063\n",
      "\n",
      "Epoch 00026: val_accuracy did not improve from 0.80771\n",
      "Epoch 27/50\n",
      "47/47 [==============================] - 311s 7s/step - loss: 0.9009 - accuracy: 0.8335 - val_loss: 1.6811 - val_accuracy: 0.8065\n",
      "\n",
      "Epoch 00027: val_accuracy did not improve from 0.80771\n",
      "Epoch 28/50\n",
      "47/47 [==============================] - 308s 7s/step - loss: 0.8754 - accuracy: 0.8371 - val_loss: 1.6847 - val_accuracy: 0.8072\n",
      "\n",
      "Epoch 00028: val_accuracy did not improve from 0.80771\n",
      "Epoch 29/50\n",
      "47/47 [==============================] - 311s 7s/step - loss: 0.8510 - accuracy: 0.8407 - val_loss: 1.6921 - val_accuracy: 0.8073\n",
      "\n",
      "Epoch 00029: val_accuracy did not improve from 0.80771\n",
      "Epoch 30/50\n",
      "47/47 [==============================] - 314s 7s/step - loss: 0.8252 - accuracy: 0.8443 - val_loss: 1.7003 - val_accuracy: 0.8058\n",
      "\n",
      "Epoch 00030: val_accuracy did not improve from 0.80771\n",
      "Epoch 31/50\n",
      "47/47 [==============================] - 311s 7s/step - loss: 0.8005 - accuracy: 0.8483 - val_loss: 1.7047 - val_accuracy: 0.8070\n",
      "\n",
      "Epoch 00031: val_accuracy did not improve from 0.80771\n",
      "Epoch 32/50\n",
      "47/47 [==============================] - 322s 7s/step - loss: 0.7752 - accuracy: 0.8520 - val_loss: 1.7121 - val_accuracy: 0.8052\n",
      "\n",
      "Epoch 00032: val_accuracy did not improve from 0.80771\n",
      "Epoch 33/50\n",
      "47/47 [==============================] - 313s 7s/step - loss: 0.7538 - accuracy: 0.8554 - val_loss: 1.7154 - val_accuracy: 0.8057\n",
      "\n",
      "Epoch 00033: val_accuracy did not improve from 0.80771\n",
      "Epoch 34/50\n",
      "47/47 [==============================] - 312s 7s/step - loss: 0.7292 - accuracy: 0.8599 - val_loss: 1.7170 - val_accuracy: 0.8058\n",
      "\n",
      "Epoch 00034: val_accuracy did not improve from 0.80771\n",
      "Epoch 35/50\n",
      "47/47 [==============================] - 342s 7s/step - loss: 0.7078 - accuracy: 0.8636 - val_loss: 1.7245 - val_accuracy: 0.8057\n",
      "\n",
      "Epoch 00035: val_accuracy did not improve from 0.80771\n",
      "Epoch 36/50\n",
      "47/47 [==============================] - 351s 7s/step - loss: 0.6880 - accuracy: 0.8668 - val_loss: 1.7335 - val_accuracy: 0.8055\n",
      "\n",
      "Epoch 00036: val_accuracy did not improve from 0.80771\n",
      "Epoch 37/50\n",
      "47/47 [==============================] - 349s 7s/step - loss: 0.6667 - accuracy: 0.8702 - val_loss: 1.7383 - val_accuracy: 0.8048\n",
      "\n",
      "Epoch 00037: val_accuracy did not improve from 0.80771\n",
      "Epoch 38/50\n",
      "47/47 [==============================] - 349s 7s/step - loss: 0.6457 - accuracy: 0.8741 - val_loss: 1.7467 - val_accuracy: 0.8042\n",
      "\n",
      "Epoch 00038: val_accuracy did not improve from 0.80771\n",
      "Epoch 39/50\n",
      "47/47 [==============================] - 341s 7s/step - loss: 0.6256 - accuracy: 0.8779 - val_loss: 1.7455 - val_accuracy: 0.8060\n",
      "\n",
      "Epoch 00039: val_accuracy did not improve from 0.80771\n",
      "Epoch 40/50\n",
      "47/47 [==============================] - 347s 7s/step - loss: 0.6073 - accuracy: 0.8812 - val_loss: 1.7502 - val_accuracy: 0.8049\n",
      "\n",
      "Epoch 00040: val_accuracy did not improve from 0.80771\n",
      "Epoch 41/50\n",
      "47/47 [==============================] - 351s 7s/step - loss: 0.5868 - accuracy: 0.8851 - val_loss: 1.7580 - val_accuracy: 0.8056\n",
      "\n",
      "Epoch 00041: val_accuracy did not improve from 0.80771\n",
      "Epoch 42/50\n",
      "47/47 [==============================] - 349s 7s/step - loss: 0.5702 - accuracy: 0.8879 - val_loss: 1.7607 - val_accuracy: 0.8057\n",
      "\n",
      "Epoch 00042: val_accuracy did not improve from 0.80771\n",
      "Epoch 43/50\n",
      "47/47 [==============================] - 347s 7s/step - loss: 0.5517 - accuracy: 0.8912 - val_loss: 1.7704 - val_accuracy: 0.8052\n",
      "\n",
      "Epoch 00043: val_accuracy did not improve from 0.80771\n",
      "Epoch 44/50\n",
      "47/47 [==============================] - 353s 8s/step - loss: 0.5341 - accuracy: 0.8948 - val_loss: 1.7745 - val_accuracy: 0.8049\n",
      "\n",
      "Epoch 00044: val_accuracy did not improve from 0.80771\n",
      "Epoch 45/50\n",
      "47/47 [==============================] - 346s 7s/step - loss: 0.5184 - accuracy: 0.8977 - val_loss: 1.7844 - val_accuracy: 0.8036\n",
      "\n",
      "Epoch 00045: val_accuracy did not improve from 0.80771\n",
      "Epoch 46/50\n",
      "47/47 [==============================] - 347s 7s/step - loss: 0.5005 - accuracy: 0.9015 - val_loss: 1.7891 - val_accuracy: 0.8038\n",
      "\n",
      "Epoch 00046: val_accuracy did not improve from 0.80771\n",
      "Epoch 47/50\n",
      "47/47 [==============================] - 346s 7s/step - loss: 0.4851 - accuracy: 0.9039 - val_loss: 1.7904 - val_accuracy: 0.8045\n",
      "\n",
      "Epoch 00047: val_accuracy did not improve from 0.80771\n",
      "Epoch 48/50\n",
      "47/47 [==============================] - 344s 7s/step - loss: 0.4693 - accuracy: 0.9068 - val_loss: 1.7946 - val_accuracy: 0.8049\n",
      "\n",
      "Epoch 00048: val_accuracy did not improve from 0.80771\n",
      "Epoch 49/50\n",
      "47/47 [==============================] - 344s 7s/step - loss: 0.4545 - accuracy: 0.9101 - val_loss: 1.8023 - val_accuracy: 0.8046\n",
      "\n",
      "Epoch 00049: val_accuracy did not improve from 0.80771\n",
      "Epoch 50/50\n",
      "47/47 [==============================] - 343s 7s/step - loss: 0.4398 - accuracy: 0.9129 - val_loss: 1.8080 - val_accuracy: 0.8045\n",
      "\n",
      "Epoch 00050: val_accuracy did not improve from 0.80771\n"
     ]
    }
   ],
   "source": [
    "es = EarlyStopping(monitor='val_accuracy',mode='max',verbose=1,patience=40)\n",
    "rl = ReduceLROnPlateau(monitor='val_accuracy',mode='max',verbose=1,patience=5,factor=0.1,min_lr=0.001)\n",
    "mc = ModelCheckpoint('checkpoint/',monitor='val_accuracy',verbose=1,mode='max',save_best_only=True)\n",
    "\n",
    "r = model.fit([X_train,y_train[:,:-1]],\n",
    "             y_train.reshape(y_train.shape[0],y_train.shape[1],1)[:,1:],\n",
    "             epochs=50,\n",
    "             batch_size=128,\n",
    "             callbacks=[es,rl,mc],\n",
    "             validation_data=([X_test,y_test[:,:-1]],y_test.reshape(y_test.shape[0],y_test.shape[1],1)[:,1:]))"
   ]
  },
  {
   "cell_type": "code",
   "execution_count": 31,
   "id": "fd35f10f",
   "metadata": {
    "execution": {
     "iopub.execute_input": "2022-10-31T13:31:51.252109Z",
     "iopub.status.busy": "2022-10-31T13:31:51.251760Z",
     "iopub.status.idle": "2022-10-31T13:31:51.531187Z",
     "shell.execute_reply": "2022-10-31T13:31:51.530082Z"
    },
    "papermill": {
     "duration": 0.43999,
     "end_time": "2022-10-31T13:31:51.533460",
     "exception": false,
     "start_time": "2022-10-31T13:31:51.093470",
     "status": "completed"
    },
    "tags": []
   },
   "outputs": [
    {
     "data": {
      "image/png": "[encoded data removed]",
      "text/plain": [
       "<Figure size 864x576 with 1 Axes>"
      ]
     },
     "metadata": {
      "needs_background": "light"
     },
     "output_type": "display_data"
    }
   ],
   "source": [
    "plt.plot(r.history['loss'],'r',label='train loss')\n",
    "plt.plot(r.history['val_loss'],'b',label='test loss')\n",
    "plt.xlabel('No. of Epochs')\n",
    "plt.ylabel('Loss')\n",
    "plt.title('Loss Graph')\n",
    "plt.legend();"
   ]
  },
  {
   "cell_type": "code",
   "execution_count": 32,
   "id": "d3d0c010",
   "metadata": {
    "execution": {
     "iopub.execute_input": "2022-10-31T13:31:51.829331Z",
     "iopub.status.busy": "2022-10-31T13:31:51.828223Z",
     "iopub.status.idle": "2022-10-31T13:31:52.102335Z",
     "shell.execute_reply": "2022-10-31T13:31:52.101292Z"
    },
    "papermill": {
     "duration": 0.423835,
     "end_time": "2022-10-31T13:31:52.104460",
     "exception": false,
     "start_time": "2022-10-31T13:31:51.680625",
     "status": "completed"
    },
    "tags": []
   },
   "outputs": [
    {
     "data": {
      "image/png": "[encoded data removed]",
      "text/plain": [
       "<Figure size 864x576 with 1 Axes>"
      ]
     },
     "metadata": {
      "needs_background": "light"
     },
     "output_type": "display_data"
    }
   ],
   "source": [
    "plt.plot(r.history['accuracy'],'r',label='train accuracy')\n",
    "plt.plot(r.history['val_accuracy'],'b',label='test accuracy')\n",
    "plt.xlabel('No. of Epochs')\n",
    "plt.ylabel('Accuracy')\n",
    "plt.title('Accuracy Graph')\n",
    "plt.legend();"
   ]
  },
  {
   "cell_type": "code",
   "execution_count": 33,
   "id": "1b73e496",
   "metadata": {
    "execution": {
     "iopub.execute_input": "2022-10-31T13:31:52.400752Z",
     "iopub.status.busy": "2022-10-31T13:31:52.400329Z",
     "iopub.status.idle": "2022-10-31T13:32:33.404438Z",
     "shell.execute_reply": "2022-10-31T13:32:33.403371Z"
    },
    "papermill": {
     "duration": 41.154516,
     "end_time": "2022-10-31T13:32:33.406796",
     "exception": false,
     "start_time": "2022-10-31T13:31:52.252280",
     "status": "completed"
    },
    "tags": []
   },
   "outputs": [
    {
     "name": "stdout",
     "output_type": "stream",
     "text": [
      "63/63 [==============================] - 34s 533ms/step - loss: 1.8080 - accuracy: 0.8045\n"
     ]
    },
    {
     "data": {
      "text/plain": [
       "[1.8080321550369263, 0.8045306205749512]"
      ]
     },
     "execution_count": 33,
     "metadata": {},
     "output_type": "execute_result"
    }
   ],
   "source": [
    "model.evaluate([X_test,y_test[:,:-1]],y_test.reshape(y_test.shape[0],y_test.shape[1],1)[:,1:])"
   ]
  },
  {
   "cell_type": "code",
   "execution_count": 34,
   "id": "859d2ddb",
   "metadata": {
    "execution": {
     "iopub.execute_input": "2022-10-31T13:32:33.717166Z",
     "iopub.status.busy": "2022-10-31T13:32:33.716796Z",
     "iopub.status.idle": "2022-10-31T13:32:33.937388Z",
     "shell.execute_reply": "2022-10-31T13:32:33.936181Z"
    },
    "papermill": {
     "duration": 0.375066,
     "end_time": "2022-10-31T13:32:33.940087",
     "exception": false,
     "start_time": "2022-10-31T13:32:33.565021",
     "status": "completed"
    },
    "tags": []
   },
   "outputs": [],
   "source": [
    "model.save('news_article_summary_generator.h5')"
   ]
  },
  {
   "cell_type": "code",
   "execution_count": 35,
   "id": "0d807d53",
   "metadata": {
    "execution": {
     "iopub.execute_input": "2022-10-31T13:32:34.242567Z",
     "iopub.status.busy": "2022-10-31T13:32:34.242167Z",
     "iopub.status.idle": "2022-10-31T13:32:35.106327Z",
     "shell.execute_reply": "2022-10-31T13:32:35.105389Z"
    },
    "papermill": {
     "duration": 1.02014,
     "end_time": "2022-10-31T13:32:35.108592",
     "exception": false,
     "start_time": "2022-10-31T13:32:34.088452",
     "status": "completed"
    },
    "tags": []
   },
   "outputs": [
    {
     "data": {
      "text/plain": [
       "<keras.engine.functional.Functional at 0x7fdf64920b10>"
      ]
     },
     "execution_count": 35,
     "metadata": {},
     "output_type": "execute_result"
    }
   ],
   "source": [
    "lm = load_model('news_article_summary_generator.h5',custom_objects={'AttentionLayer': AttentionLayer})\n",
    "lm"
   ]
  },
  {
   "cell_type": "code",
   "execution_count": 36,
   "id": "acbe6a6b",
   "metadata": {
    "execution": {
     "iopub.execute_input": "2022-10-31T13:32:35.409634Z",
     "iopub.status.busy": "2022-10-31T13:32:35.408821Z",
     "iopub.status.idle": "2022-10-31T13:32:36.283376Z",
     "shell.execute_reply": "2022-10-31T13:32:36.282405Z"
    },
    "papermill": {
     "duration": 1.027103,
     "end_time": "2022-10-31T13:32:36.285796",
     "exception": false,
     "start_time": "2022-10-31T13:32:35.258693",
     "status": "completed"
    },
    "tags": []
   },
   "outputs": [],
   "source": [
    "encoder_model = Model(inputs=encoder_inputs, outputs=[encoder_outputs, state_h, state_c])\n",
    "\n",
    "decoder_initial_state_a = Input(shape=(latent_dim,))\n",
    "decoder_initial_state_c = Input(shape=(latent_dim,))\n",
    "decoder_hidden_state = Input(shape=(max_text_len, latent_dim))\n",
    "\n",
    "decoder_out, decoder_state_a, decoder_state_c = decoder_lstm(decoder_emb, initial_state=[decoder_initial_state_a, decoder_initial_state_c])\n",
    "attn_out_inf, attn_states_inf = attn_layer([decoder_hidden_state, decoder_out])\n",
    "decoder_inf_concat_outputs = Concatenate(axis=-1, name='concat')([decoder_out, attn_out_inf])\n",
    "\n",
    "decoder_final = decoder_dense(decoder_inf_concat_outputs)\n",
    "decoder_model = Model([decoder_inputs]+[decoder_hidden_state, decoder_initial_state_a, decoder_initial_state_c], [decoder_final]+[decoder_state_a, decoder_state_c])"
   ]
  },
  {
   "cell_type": "code",
   "execution_count": 37,
   "id": "22fafcc7",
   "metadata": {
    "execution": {
     "iopub.execute_input": "2022-10-31T13:32:36.590123Z",
     "iopub.status.busy": "2022-10-31T13:32:36.589746Z",
     "iopub.status.idle": "2022-10-31T13:32:36.597768Z",
     "shell.execute_reply": "2022-10-31T13:32:36.596698Z"
    },
    "papermill": {
     "duration": 0.160718,
     "end_time": "2022-10-31T13:32:36.599963",
     "exception": false,
     "start_time": "2022-10-31T13:32:36.439245",
     "status": "completed"
    },
    "tags": []
   },
   "outputs": [],
   "source": [
    "def decode_sequences(input_sequence):\n",
    "    encoder_out, encoder_a, encoder_c = encoder_model.predict(input_sequence)\n",
    "    next_input = np.zeros((1,1))\n",
    "    next_input[0,0] = y_tokenizer.word_index['start']\n",
    "    output_sequence = ''\n",
    "    stop = False\n",
    "    while not stop:\n",
    "        decoded_out, trans_state_a, trans_state_c = decoder_model.predict([next_input] + [encoder_out, encoder_a, encoder_c])\n",
    "        output_idx = np.argmax(decoded_out[0, -1, :])\n",
    "        if output_idx == y_tokenizer.word_index['end']: \n",
    "            stop = True\n",
    "        elif output_idx > 0 and output_idx != y_tokenizer.word_index['start']:\n",
    "            output_token = y_tokenizer.index_word[output_idx] \n",
    "            output_sequence = output_sequence + ' ' + output_token \n",
    "        next_input[0,0] = output_idx\n",
    "        # Continously update the transient state vectors in decoder.\n",
    "        encoder_a, encoder_c = trans_state_a, trans_state_c\n",
    "        \n",
    "    return output_sequence     "
   ]
  },
  {
   "cell_type": "code",
   "execution_count": 38,
   "id": "ba03722b",
   "metadata": {
    "execution": {
     "iopub.execute_input": "2022-10-31T13:32:36.899781Z",
     "iopub.status.busy": "2022-10-31T13:32:36.899403Z",
     "iopub.status.idle": "2022-10-31T13:32:36.906013Z",
     "shell.execute_reply": "2022-10-31T13:32:36.905075Z"
    },
    "papermill": {
     "duration": 0.15942,
     "end_time": "2022-10-31T13:32:36.908271",
     "exception": false,
     "start_time": "2022-10-31T13:32:36.748851",
     "status": "completed"
    },
    "tags": []
   },
   "outputs": [],
   "source": [
    "def sequence_to_text(input_sequence,mode):\n",
    "    res = ''\n",
    "    \n",
    "    if mode == 'input':\n",
    "        for idx in input_sequence:\n",
    "            if idx:\n",
    "                res = res + x_tokenizer.index_word[idx] + ' '\n",
    "    \n",
    "    elif mode == 'output':\n",
    "        for idx in input_sequence:\n",
    "            if idx:\n",
    "                if y_tokenizer.index_word[idx] != 'start' and y_tokenizer.index_word[idx] != 'end':\n",
    "                    res = res + y_tokenizer.index_word[idx] + ' '\n",
    "    \n",
    "    return res"
   ]
  },
  {
   "cell_type": "code",
   "execution_count": 39,
   "id": "f3350551",
   "metadata": {
    "execution": {
     "iopub.execute_input": "2022-10-31T13:32:37.208524Z",
     "iopub.status.busy": "2022-10-31T13:32:37.208123Z",
     "iopub.status.idle": "2022-10-31T13:32:58.852111Z",
     "shell.execute_reply": "2022-10-31T13:32:58.851160Z"
    },
    "papermill": {
     "duration": 21.797767,
     "end_time": "2022-10-31T13:32:58.854377",
     "exception": false,
     "start_time": "2022-10-31T13:32:37.056610",
     "status": "completed"
    },
    "tags": []
   },
   "outputs": [
    {
     "name": "stdout",
     "output_type": "stream",
     "text": [
      "News Article: us president donald trump on tuesday said that fresh sanctions on north korea approved by the un security council were just a small step and nothing compared to what ultimately will have to happen i do not know if it has any impact but certainly it was nice to get a 15 to nothing vote trump added \n",
      "Original Article Summary: n korea sanctions nothing compared to what will happen trump \n",
      "Predicted Article Summary:  trump contradicts tweeting to cherish hafiz saeed us\n",
      "\n",
      "---------------------------\n",
      "\n",
      "News Article: the mayor of the us town of hell elijah daniel was impeached on wednesday just three hours after he took office for declaring heterosexuality as illegal my ban is a copyandpaste of trump s muslim ban but with heterosexuals instead the 23yearold said interestingly he had become the mayor by giving town organisers a small fee \n",
      "Original Article Summary: mayor of us town hell impeached for banning heterosexuals \n",
      "Predicted Article Summary:  railways of bosnia gets others for eid violence in genocide\n",
      "\n",
      "---------------------------\n",
      "\n",
      "News Article: to fight the over 17hour fire in delhi s malviya nagar the indian air force deployed an mi17 chopper which used the bambi bucket technique bambi bucket is a specialised bucket carried by a chopper via a suspension cable for delivering water during aerial firefighting the water was filled in the bucket from the yamuna reservoir and dropped over the site \n",
      "Original Article Summary: how did air force help fight the over 17hour delhi fire \n",
      "Predicted Article Summary:  salman signs to star in horror film amaavas reports\n",
      "\n",
      "---------------------------\n",
      "\n",
      "News Article: a woman has accused actorfilmmaker rajat kapoor of sexual harassment and revealed she used to call him sir but he called her little b tch and asked her to call him master she added she continued talking to him as the director she idolised was interested in knowing about her day but online conversations always ended up with his sexting attempts \n",
      "Original Article Summary: rajat called me little b tch asked me to call him master woman \n",
      "Predicted Article Summary:  i have invisible man if mind if not be woman on woman akshay\n",
      "\n",
      "---------------------------\n",
      "\n",
      "News Article: mit researchers have developed a device to produce energy using temperature fluctuations occurring between day and night called thermal resonator the device coated with graphene and infused with a phasechanging material produces both high heat conduction and capacity one side of the device captures heat and slowly radiates it to the other side creating a lag which is then harvested \n",
      "Original Article Summary: mit team makes device to draw power from temperature changes \n",
      "Predicted Article Summary:  scientists develop humanoid robot in hug\n",
      "\n",
      "---------------------------\n",
      "\n",
      "News Article: australian astronomers have found the fastest growing black hole known in the universe describing it as a monster that consumes a mass equivalent to our sun every two days the supermassive black hole was estimated to be the size of about 20 billion suns over 12 billion years ago with a 1 percent growth rate every one million years \n",
      "Original Article Summary: astronomers find fastest growing black hole known in space \n",
      "Predicted Article Summary:  sachin tendulkar s exhusband stops opponent in errors\n",
      "\n",
      "---------------------------\n",
      "\n",
      "News Article: actor sanjay dutt s wife maanayata dutt has shared a video on instagram in which she can be seen dancing to the song wouldespacito with their son shahraan she captioned the video the most amazing birthday dance with my son the video was from the celebration of her 38th birthday on saturday \n",
      "Original Article Summary: maanayata dances to despacito with son on her birthday \n",
      "Predicted Article Summary:  who luru students accused over someone over 2007 in race\n",
      "\n",
      "---------------------------\n",
      "\n",
      "News Article: the supreme court has directed the home ministry to â secure and ensureâ the presence of vijay mallya who is currently in the united kingdom before it on july 10 this comes after the apex court held the liquor baron guilty for contempt of court for not obeying the court orders by not disclosing full particulars of his assets \n",
      "Original Article Summary: centre asked to secure mallya s presence in sc on july 10 \n",
      "Predicted Article Summary:  hc allows lalu to lalu for naming parole for december disability\n",
      "\n",
      "---------------------------\n",
      "\n",
      "News Article: india s largest multiplex chain pvr cinemas is the frontrunner to buy north indiafocussed wave cinemas in a deal valued up to â ¹450 crore according to reports wave cinemas operates 46 screens across 12 properties in cities including noida lucknow and chandigarh this comes just two weeks after pvr completed the acquisition of 716 percent stake in south indiabased spi cinemas \n",
      "Original Article Summary: pvr leads race to acquire wave cinemas reports \n",
      "Predicted Article Summary:  jdcom s twitter s juventus s not challenge up s ceo\n",
      "\n",
      "---------------------------\n",
      "\n",
      "News Article: indian mengs cricket team will play over 200 international matches from 2018 to 2023 the most by an international side over the next fiveyear cycle india will play as many as 102 international matches at home in the next cycle further india will make their debut in the icc world test championship in july 2019 against windies \n",
      "Original Article Summary: india to play 200 int l cricket matches from 2018 to 2023 \n",
      "Predicted Article Summary:  india s 1st 1st 1st once once aircraft in final in india\n",
      "\n",
      "---------------------------\n",
      "\n",
      "News Article: delhi s bangla sahib gurudwara reportedly has been delivering langar twice a day to farmers from tamil nadu who have been protesting at jantar mantar earlier they served only chapattis but are now sending rice too after realising the farmersâ preference we would have provided them accommodation too but they have not asked for that service yet the gurudwara management said \n",
      "Original Article Summary: delhi gurudwara delivers food to protesting tn farmers daily \n",
      "Predicted Article Summary:  un secy psychological isis claim in swine un violence\n",
      "\n",
      "---------------------------\n",
      "\n",
      "News Article: online travel portal yatra has launched a new campaign featuring its brand ambassador bollywood superstar ranbir kapoor aimed at highlighting its ecash loyalty program and the unique feature of protecting customers from a drop in airfare post making a booking these ads present two unique customer friendly features in an entertaining manner using evergreen bollywood movie songs with tailored lyrics \n",
      "Original Article Summary: yatra launches new ad campaign with brand ambassador ranbir kapoor \n",
      "Predicted Article Summary:  nasa s smart dustbin galaxy mars using mars\n",
      "\n",
      "---------------------------\n",
      "\n",
      "News Article: posting a picture with her coactor ranveer singh and director rohit shetty after the completion of shoot of their upcoming film simmba sara ali khan wrote ranveer your energy is contagious your passion is palpable thank you so much rohit sir for all your warmth patience advice direction concern compassion and lots more she further wrote \n",
      "Original Article Summary: your energy is contagious passion palpable sara to ranveer \n",
      "Predicted Article Summary:  trump kills its members of afghanistan s retaliatory row\n",
      "\n",
      "---------------------------\n",
      "\n",
      "News Article: actress rani mukerji has said that she is not interested in actor salman khangs marriage while adding i just want to see salmangs kids the actress said this when she featured on the reality show bigg boss 11 which the actor hosts salman also jokingly added even i have no interest in salman khangs wedding \n",
      "Original Article Summary: only want to see salmangs kids no interest in wedding rani \n",
      "Predicted Article Summary:  i am not pregnant till a mbbs i am pregnant ileana cruz\n",
      "\n",
      "---------------------------\n",
      "\n",
      "News Article: shikhar dhawan smashed his 13th odi hundred against south africa at johannesburg on saturday to become the first indian and the overall ninth batsman to score a century in his 100th odi dhawan also became the second highest runscorer after 100 odis surpassing david warner s tally of 4217 runs notably dhawan is the 34th indian cricketer to play 100 odis \n",
      "Original Article Summary: dhawan becomes first indian to score ton in his 100th odi \n",
      "Predicted Article Summary:  india s entered final to be everest for iday report\n",
      "\n",
      "---------------------------\n",
      "\n",
      "News Article: answering a question about india being feared to be turning into an illiberal democracy former vice president hamid ansari said yes yes there is a good deal of writing on this adding that indian nationalism is defined by the constitution he said now an effort is being made tosay that if you do this you are less of a nationalist \n",
      "Original Article Summary: india feared to be turning into illiberal democracy exvp \n",
      "Predicted Article Summary:  united man kills lawmakers in fire s ntpc challenge in raebareli\n",
      "\n",
      "---------------------------\n",
      "\n",
      "News Article: sahara group s subrata roy on thursday said in supreme court that he would pay â ¹1500 crore in the sebisahara account by june 15 roy s undertaking came in the case involving him and sebi over a dispute of returning money to investors roy furnished another postdated cheque of â ¹552 crore he would be sent to jail if the cheques are dishonoured \n",
      "Original Article Summary: sahara s subrata roy commits to pay â ¹1500 crore by june 15 \n",
      "Predicted Article Summary:  i was not a movie ipl survivor to avoid uk sc\n",
      "\n",
      "---------------------------\n",
      "\n",
      "News Article: a washington post report has claimed that us intelligence agencies overheard russian ambassador sergei kislyak telling his superiors that he had discussed campaignrelated matters with us attorney general jeff sessions during the 2016 presidential election this comes in contradiction to sessions testimony in june wherein he denied participation in the alleged us election meddling by russia \n",
      "Original Article Summary: us attorney gen discussed trump campaign with russia report \n",
      "Predicted Article Summary:  i have a punjab about about work in badlapur uk dhawan\n",
      "\n",
      "---------------------------\n",
      "\n",
      "News Article: at least one person was killed on board a japanese army apache helicopter after it crashed into a house in the saga prefecture on monday defence minister itsunori onodera said the crash set the house on fire although its residents were confirmed safe the crash comes following a series of military accidents by the us forces on the okinawa island \n",
      "Original Article Summary: one dead as military helicopter crashes into house in japan \n",
      "Predicted Article Summary:  united man killed in ied accidents in pune\n",
      "\n",
      "---------------------------\n",
      "\n",
      "News Article: the cbi has registered a case against vadodarabased diamond power infrastructure its founder and directors for defrauding 11 banks to the tune of â ¹2654 crore it allegedly obtained enhancement in credit facilities with the active connivance of officials from various banks notably the company managed to get the loans despite being named in rbi s defaulters list \n",
      "Original Article Summary: vadodara firm defrauds 11 banks of over â ¹2650 crore \n",
      "Predicted Article Summary:  odisha metro launches â ¹50 crore award for delhi\n",
      "\n",
      "---------------------------\n",
      "\n"
     ]
    }
   ],
   "source": [
    "predicted_summaries = []\n",
    "\n",
    "for i in range(20):\n",
    "    print(\"News Article:\",sequence_to_text(X_test[i],'input'))\n",
    "    print(\"Original Article Summary:\",sequence_to_text(y_test[i],'output'))\n",
    "    pred_summary = decode_sequences(X_test[i].reshape(1,max_text_len))\n",
    "    print(\"Predicted Article Summary:\",pred_summary)\n",
    "    predicted_summaries.append(pred_summary)\n",
    "    print()\n",
    "    print('---------------------------')\n",
    "    print()"
   ]
  },
  {
   "cell_type": "code",
   "execution_count": 40,
   "id": "4ea8d33a",
   "metadata": {
    "execution": {
     "iopub.execute_input": "2022-10-31T13:32:59.228988Z",
     "iopub.status.busy": "2022-10-31T13:32:59.228612Z",
     "iopub.status.idle": "2022-10-31T13:32:59.235714Z",
     "shell.execute_reply": "2022-10-31T13:32:59.234691Z"
    },
    "papermill": {
     "duration": 0.233977,
     "end_time": "2022-10-31T13:32:59.237915",
     "exception": false,
     "start_time": "2022-10-31T13:32:59.003938",
     "status": "completed"
    },
    "tags": []
   },
   "outputs": [],
   "source": [
    "original_summaries = []\n",
    "references = []\n",
    "\n",
    "for i in range(20):\n",
    "    original_summaries.append(sequence_to_text(y_test[i],'output'))\n",
    "\n",
    "for summary in original_summaries:\n",
    "    ref = ' '.join(summary.split())\n",
    "    references.append(ref)"
   ]
  },
  {
   "cell_type": "code",
   "execution_count": 41,
   "id": "cbe97059",
   "metadata": {
    "execution": {
     "iopub.execute_input": "2022-10-31T13:32:59.548198Z",
     "iopub.status.busy": "2022-10-31T13:32:59.547817Z",
     "iopub.status.idle": "2022-10-31T13:32:59.691827Z",
     "shell.execute_reply": "2022-10-31T13:32:59.690845Z"
    },
    "papermill": {
     "duration": 0.303625,
     "end_time": "2022-10-31T13:32:59.694827",
     "exception": false,
     "start_time": "2022-10-31T13:32:59.391202",
     "status": "completed"
    },
    "tags": []
   },
   "outputs": [
    {
     "name": "stdout",
     "output_type": "stream",
     "text": [
      "Original News Article Summary: n korea sanctions nothing compared to what will happen trump\n",
      "Predicted News Article Summary:  trump contradicts tweeting to cherish hafiz saeed us\n",
      "BLEU Score: 1.371044612342374e-231\n",
      "Word Error Rate: 0.9\n",
      "Match Error Rate: 0.9\n",
      "Character Error Rate: 0.7166666666666667\n",
      "Word Information Preserved: 0.0125\n",
      "Word Information Lost: 0.9875\n",
      "------------------------------------------------------\n",
      "Original News Article Summary: mayor of us town hell impeached for banning heterosexuals\n",
      "Predicted News Article Summary:  railways of bosnia gets others for eid violence in genocide\n",
      "BLEU Score: 1.3483065280626046e-231\n",
      "Word Error Rate: 1.0\n",
      "Match Error Rate: 0.9\n",
      "Character Error Rate: 0.7894736842105263\n",
      "Word Information Preserved: 0.011111111111111112\n",
      "Word Information Lost: 0.9888888888888889\n",
      "------------------------------------------------------\n",
      "Original News Article Summary: how did air force help fight the over 17hour delhi fire\n",
      "Predicted News Article Summary:  salman signs to star in horror film amaavas reports\n",
      "BLEU Score: 1.2882297539194154e-231\n",
      "Word Error Rate: 1.0\n",
      "Match Error Rate: 1.0\n",
      "Character Error Rate: 0.8545454545454545\n",
      "Word Information Preserved: 0.0\n",
      "Word Information Lost: 1.0\n",
      "------------------------------------------------------\n",
      "Original News Article Summary: rajat called me little b tch asked me to call him master woman\n",
      "Predicted News Article Summary:  i have invisible man if mind if not be woman on woman akshay\n",
      "BLEU Score: 1.2829173531174708e-231\n",
      "Word Error Rate: 1.0\n",
      "Match Error Rate: 1.0\n",
      "Character Error Rate: 0.7903225806451613\n",
      "Word Information Preserved: 0.0\n",
      "Word Information Lost: 1.0\n",
      "------------------------------------------------------\n",
      "Original News Article Summary: mit team makes device to draw power from temperature changes\n",
      "Predicted News Article Summary:  scientists develop humanoid robot in hug\n",
      "BLEU Score: 1.4619233061303572e-231\n",
      "Word Error Rate: 1.0\n",
      "Match Error Rate: 1.0\n",
      "Character Error Rate: 0.7333333333333333\n",
      "Word Information Preserved: 0.0\n",
      "Word Information Lost: 1.0\n",
      "------------------------------------------------------\n",
      "Original News Article Summary: astronomers find fastest growing black hole known in space\n",
      "Predicted News Article Summary:  sachin tendulkar s exhusband stops opponent in errors\n",
      "BLEU Score: 1.3441256823005938e-231\n",
      "Word Error Rate: 0.8888888888888888\n",
      "Match Error Rate: 0.8888888888888888\n",
      "Character Error Rate: 0.7758620689655172\n",
      "Word Information Preserved: 0.013888888888888888\n",
      "Word Information Lost: 0.9861111111111112\n",
      "------------------------------------------------------\n",
      "Original News Article Summary: maanayata dances to despacito with son on her birthday\n",
      "Predicted News Article Summary:  who luru students accused over someone over 2007 in race\n",
      "BLEU Score: 1.28254206644474e-231\n",
      "Word Error Rate: 1.1111111111111112\n",
      "Match Error Rate: 1.0\n",
      "Character Error Rate: 0.8333333333333334\n",
      "Word Information Preserved: 0.0\n",
      "Word Information Lost: 1.0\n",
      "------------------------------------------------------\n",
      "Original News Article Summary: centre asked to secure mallya s presence in sc on july 10\n",
      "Predicted News Article Summary:  hc allows lalu to lalu for naming parole for december disability\n",
      "BLEU Score: 1.2832461798400212e-231\n",
      "Word Error Rate: 1.0\n",
      "Match Error Rate: 0.9230769230769231\n",
      "Character Error Rate: 0.9122807017543859\n",
      "Word Information Preserved: 0.007575757575757576\n",
      "Word Information Lost: 0.9924242424242424\n",
      "------------------------------------------------------\n",
      "Original News Article Summary: pvr leads race to acquire wave cinemas reports\n",
      "Predicted News Article Summary:  jdcom s twitter s juventus s not challenge up s ceo\n",
      "BLEU Score: 1.37758916398409e-231\n",
      "Word Error Rate: 1.375\n",
      "Match Error Rate: 1.0\n",
      "Character Error Rate: 0.9347826086956522\n",
      "Word Information Preserved: 0.0\n",
      "Word Information Lost: 1.0\n",
      "------------------------------------------------------\n",
      "Original News Article Summary: india to play 200 int l cricket matches from 2018 to 2023\n",
      "Predicted News Article Summary:  india s 1st 1st 1st once once aircraft in final in india\n",
      "BLEU Score: 1.28254206644474e-231\n",
      "Word Error Rate: 0.9166666666666666\n",
      "Match Error Rate: 0.9166666666666666\n",
      "Character Error Rate: 0.7368421052631579\n",
      "Word Information Preserved: 0.006944444444444444\n",
      "Word Information Lost: 0.9930555555555556\n",
      "------------------------------------------------------\n",
      "Original News Article Summary: delhi gurudwara delivers food to protesting tn farmers daily\n",
      "Predicted News Article Summary:  un secy psychological isis claim in swine un violence\n",
      "BLEU Score: 1.3441256823005938e-231\n",
      "Word Error Rate: 1.0\n",
      "Match Error Rate: 1.0\n",
      "Character Error Rate: 0.8333333333333334\n",
      "Word Information Preserved: 0.0\n",
      "Word Information Lost: 1.0\n",
      "------------------------------------------------------\n",
      "Original News Article Summary: yatra launches new ad campaign with brand ambassador ranbir kapoor\n",
      "Predicted News Article Summary:  nasa s smart dustbin galaxy mars using mars\n",
      "BLEU Score: 1.3682868820983658e-231\n",
      "Word Error Rate: 1.0\n",
      "Match Error Rate: 1.0\n",
      "Character Error Rate: 0.7424242424242424\n",
      "Word Information Preserved: 0.0\n",
      "Word Information Lost: 1.0\n",
      "------------------------------------------------------\n",
      "Original News Article Summary: your energy is contagious passion palpable sara to ranveer\n",
      "Predicted News Article Summary:  trump kills its members of afghanistan s retaliatory row\n",
      "BLEU Score: 1.3048555118335446e-231\n",
      "Word Error Rate: 1.0\n",
      "Match Error Rate: 1.0\n",
      "Character Error Rate: 0.7931034482758621\n",
      "Word Information Preserved: 0.0\n",
      "Word Information Lost: 1.0\n",
      "------------------------------------------------------\n",
      "Original News Article Summary: only want to see salmangs kids no interest in wedding rani\n",
      "Predicted News Article Summary:  i am not pregnant till a mbbs i am pregnant ileana cruz\n",
      "BLEU Score: 1.2395288183339461e-231\n",
      "Word Error Rate: 1.0909090909090908\n",
      "Match Error Rate: 1.0\n",
      "Character Error Rate: 0.7758620689655172\n",
      "Word Information Preserved: 0.0\n",
      "Word Information Lost: 1.0\n",
      "------------------------------------------------------\n",
      "Original News Article Summary: dhawan becomes first indian to score ton in his 100th odi\n",
      "Predicted News Article Summary:  india s entered final to be everest for iday report\n",
      "BLEU Score: 1.2627076138080564e-231\n",
      "Word Error Rate: 0.9090909090909091\n",
      "Match Error Rate: 0.9090909090909091\n",
      "Character Error Rate: 0.7543859649122807\n",
      "Word Information Preserved: 0.009090909090909092\n",
      "Word Information Lost: 0.990909090909091\n",
      "------------------------------------------------------\n",
      "Original News Article Summary: india feared to be turning into illiberal democracy exvp\n",
      "Predicted News Article Summary:  united man kills lawmakers in fire s ntpc challenge in raebareli\n",
      "BLEU Score: 1.2832461798400212e-231\n",
      "Word Error Rate: 1.2222222222222223\n",
      "Match Error Rate: 1.0\n",
      "Character Error Rate: 0.9107142857142857\n",
      "Word Information Preserved: 0.0\n",
      "Word Information Lost: 1.0\n",
      "------------------------------------------------------\n",
      "Original News Article Summary: sahara s subrata roy commits to pay â ¹1500 crore by june 15\n",
      "Predicted News Article Summary:  i was not a movie ipl survivor to avoid uk sc\n",
      "BLEU Score: 1.3283260927349745e-231\n",
      "Word Error Rate: 1.0\n",
      "Match Error Rate: 1.0\n",
      "Character Error Rate: 0.7666666666666667\n",
      "Word Information Preserved: 0.0\n",
      "Word Information Lost: 1.0\n",
      "------------------------------------------------------\n",
      "Original News Article Summary: us attorney gen discussed trump campaign with russia report\n",
      "Predicted News Article Summary:  i have a punjab about about work in badlapur uk dhawan\n",
      "BLEU Score: 1.2702917842806164e-231\n",
      "Word Error Rate: 1.2222222222222223\n",
      "Match Error Rate: 1.0\n",
      "Character Error Rate: 0.8305084745762712\n",
      "Word Information Preserved: 0.0\n",
      "Word Information Lost: 1.0\n",
      "------------------------------------------------------\n",
      "Original News Article Summary: one dead as military helicopter crashes into house in japan\n",
      "Predicted News Article Summary:  united man killed in ied accidents in pune\n",
      "BLEU Score: 1.3509119634545632e-231\n",
      "Word Error Rate: 0.9\n",
      "Match Error Rate: 0.9\n",
      "Character Error Rate: 0.6610169491525424\n",
      "Word Information Preserved: 0.0125\n",
      "Word Information Lost: 0.9875\n",
      "------------------------------------------------------\n",
      "Original News Article Summary: vadodara firm defrauds 11 banks of over â ¹2650 crore\n",
      "Predicted News Article Summary:  odisha metro launches â ¹50 crore award for delhi\n",
      "BLEU Score: 1.3911631100742162e-231\n",
      "Word Error Rate: 1.0\n",
      "Match Error Rate: 1.0\n",
      "Character Error Rate: 0.7924528301886793\n",
      "Word Information Preserved: 0.0\n",
      "Word Information Lost: 1.0\n",
      "------------------------------------------------------\n"
     ]
    }
   ],
   "source": [
    "for i in range(20):\n",
    "    print(\"Original News Article Summary:\",references[i])\n",
    "    print(\"Predicted News Article Summary:\",predicted_summaries[i])\n",
    "    print(\"BLEU Score:\",sentence_bleu(references[i],predicted_summaries[i],weights=(0.25,0.25,0.25,0.25)))\n",
    "    print(\"Word Error Rate:\",wer(references[i],predicted_summaries[i]))\n",
    "    print(\"Match Error Rate:\",mer(references[i],predicted_summaries[i]))\n",
    "    print(\"Character Error Rate:\",cer(references[i],predicted_summaries[i]))\n",
    "    print(\"Word Information Preserved:\",wip(references[i],predicted_summaries[i]))\n",
    "    print(\"Word Information Lost:\",wil(references[i],predicted_summaries[i]))\n",
    "    print('------------------------------------------------------')"
   ]
  }
 ],
 "metadata": {
  "kernelspec": {
   "display_name": "Python 3",
   "language": "python",
   "name": "python3"
  },
  "language_info": {
   "codemirror_mode": {
    "name": "ipython",
    "version": 3
   },
   "file_extension": ".py",
   "mimetype": "text/x-python",
   "name": "python",
   "nbconvert_exporter": "python",
   "pygments_lexer": "ipython3",
   "version": "3.7.12"
  },
  "papermill": {
   "default_parameters": {},
   "duration": 16705.316781,
   "end_time": "2022-10-31T13:33:03.189258",
   "environment_variables": {},
   "exception": null,
   "input_path": "__notebook__.ipynb",
   "output_path": "__notebook__.ipynb",
   "parameters": {},
   "start_time": "2022-10-31T08:54:37.872477",
   "version": "2.3.4"
  },
  "widgets": {
   "application/vnd.jupyter.widget-state+json": {
    "state": {
     "03d03301c6694180b2620832bb806646": {
      "model_module": "@jupyter-widgets/controls",
      "model_module_version": "1.5.0",
      "model_name": "HTMLModel",
      "state": {
       "_dom_classes": [],
       "_model_module": "@jupyter-widgets/controls",
       "_model_module_version": "1.5.0",
       "_model_name": "HTMLModel",
       "_view_count": null,
       "_view_module": "@jupyter-widgets/controls",
       "_view_module_version": "1.5.0",
       "_view_name": "HTMLView",
       "description": "",
       "description_tooltip": null,
       "layout": "IPY_MODEL_a1c2861395614182bee43621803ad78e",
       "placeholder": "​",
       "style": "IPY_MODEL_08a20ce7da6b4ee2a3f50c8400c99d62",
       "value": "100%"
      }
     },
     "08a20ce7da6b4ee2a3f50c8400c99d62": {
      "model_module": "@jupyter-widgets/controls",
      "model_module_version": "1.5.0",
      "model_name": "DescriptionStyleModel",
      "state": {
       "_model_module": "@jupyter-widgets/controls",
       "_model_module_version": "1.5.0",
       "_model_name": "DescriptionStyleModel",
       "_view_count": null,
       "_view_module": "@jupyter-widgets/base",
       "_view_module_version": "1.2.0",
       "_view_name": "StyleView",
       "description_width": ""
      }
     },
     "0a6a585798fd42eaba2b10d87971c7e4": {
      "model_module": "@jupyter-widgets/controls",
      "model_module_version": "1.5.0",
      "model_name": "ProgressStyleModel",
      "state": {
       "_model_module": "@jupyter-widgets/controls",
       "_model_module_version": "1.5.0",
       "_model_name": "ProgressStyleModel",
       "_view_count": null,
       "_view_module": "@jupyter-widgets/base",
       "_view_module_version": "1.2.0",
       "_view_name": "StyleView",
       "bar_color": null,
       "description_width": ""
      }
     },
     "0ea0181c98ed4455bea718b4dded58ec": {
      "model_module": "@jupyter-widgets/controls",
      "model_module_version": "1.5.0",
      "model_name": "DescriptionStyleModel",
      "state": {
       "_model_module": "@jupyter-widgets/controls",
       "_model_module_version": "1.5.0",
       "_model_name": "DescriptionStyleModel",
       "_view_count": null,
       "_view_module": "@jupyter-widgets/base",
       "_view_module_version": "1.2.0",
       "_view_name": "StyleView",
       "description_width": ""
      }
     },
     "1f83c81e90384f6fbeaddc981693d8ee": {
      "model_module": "@jupyter-widgets/controls",
      "model_module_version": "1.5.0",
      "model_name": "HBoxModel",
      "state": {
       "_dom_classes": [],
       "_model_module": "@jupyter-widgets/controls",
       "_model_module_version": "1.5.0",
       "_model_name": "HBoxModel",
       "_view_count": null,
       "_view_module": "@jupyter-widgets/controls",
       "_view_module_version": "1.5.0",
       "_view_name": "HBoxView",
       "box_style": "",
       "children": [
        "IPY_MODEL_03d03301c6694180b2620832bb806646",
        "IPY_MODEL_e6b8ac599967427fa4a5e80f3b9c2de2",
        "IPY_MODEL_3ff4cfc8d89845efba91cc8e78133a4d"
       ],
       "layout": "IPY_MODEL_c31fafbc90514d278bafb630fbd0dc93"
      }
     },
     "31df9b4071db4927931e004dd2499b85": {
      "model_module": "@jupyter-widgets/controls",
      "model_module_version": "1.5.0",
      "model_name": "DescriptionStyleModel",
      "state": {
       "_model_module": "@jupyter-widgets/controls",
       "_model_module_version": "1.5.0",
       "_model_name": "DescriptionStyleModel",
       "_view_count": null,
       "_view_module": "@jupyter-widgets/base",
       "_view_module_version": "1.2.0",
       "_view_name": "StyleView",
       "description_width": ""
      }
     },
     "38005cdce77c4909824f3e1cc92c7a12": {
      "model_module": "@jupyter-widgets/base",
      "model_module_version": "1.2.0",
      "model_name": "LayoutModel",
      "state": {
       "_model_module": "@jupyter-widgets/base",
       "_model_module_version": "1.2.0",
       "_model_name": "LayoutModel",
       "_view_count": null,
       "_view_module": "@jupyter-widgets/base",
       "_view_module_version": "1.2.0",
       "_view_name": "LayoutView",
       "align_content": null,
       "align_items": null,
       "align_self": null,
       "border": null,
       "bottom": null,
       "display": null,
       "flex": null,
       "flex_flow": null,
       "grid_area": null,
       "grid_auto_columns": null,
       "grid_auto_flow": null,
       "grid_auto_rows": null,
       "grid_column": null,
       "grid_gap": null,
       "grid_row": null,
       "grid_template_areas": null,
       "grid_template_columns": null,
       "grid_template_rows": null,
       "height": null,
       "justify_content": null,
       "justify_items": null,
       "left": null,
       "margin": null,
       "max_height": null,
       "max_width": null,
       "min_height": null,
       "min_width": null,
       "object_fit": null,
       "object_position": null,
       "order": null,
       "overflow": null,
       "overflow_x": null,
       "overflow_y": null,
       "padding": null,
       "right": null,
       "top": null,
       "visibility": null,
       "width": null
      }
     },
     "3ff4cfc8d89845efba91cc8e78133a4d": {
      "model_module": "@jupyter-widgets/controls",
      "model_module_version": "1.5.0",
      "model_name": "HTMLModel",
      "state": {
       "_dom_classes": [],
       "_model_module": "@jupyter-widgets/controls",
       "_model_module_version": "1.5.0",
       "_model_name": "HTMLModel",
       "_view_count": null,
       "_view_module": "@jupyter-widgets/controls",
       "_view_module_version": "1.5.0",
       "_view_name": "HTMLView",
       "description": "",
       "description_tooltip": null,
       "layout": "IPY_MODEL_dc99c6a3689641e89be9e5e1f843b164",
       "placeholder": "​",
       "style": "IPY_MODEL_31df9b4071db4927931e004dd2499b85",
       "value": " 8000/8000 [00:00&lt;00:00, 17348.04it/s]"
      }
     },
     "4cabd3ec28b741d69e7ea4c788f9e509": {
      "model_module": "@jupyter-widgets/controls",
      "model_module_version": "1.5.0",
      "model_name": "FloatProgressModel",
      "state": {
       "_dom_classes": [],
       "_model_module": "@jupyter-widgets/controls",
       "_model_module_version": "1.5.0",
       "_model_name": "FloatProgressModel",
       "_view_count": null,
       "_view_module": "@jupyter-widgets/controls",
       "_view_module_version": "1.5.0",
       "_view_name": "ProgressView",
       "bar_style": "success",
       "description": "",
       "description_tooltip": null,
       "layout": "IPY_MODEL_8f611735c21b4577b9e6513b75e5b4ef",
       "max": 8000.0,
       "min": 0.0,
       "orientation": "horizontal",
       "style": "IPY_MODEL_5c7d6d1d689d42e585f1e8f72efee777",
       "value": 8000.0
      }
     },
     "521604a787894d3792567249a93d31ca": {
      "model_module": "@jupyter-widgets/base",
      "model_module_version": "1.2.0",
      "model_name": "LayoutModel",
      "state": {
       "_model_module": "@jupyter-widgets/base",
       "_model_module_version": "1.2.0",
       "_model_name": "LayoutModel",
       "_view_count": null,
       "_view_module": "@jupyter-widgets/base",
       "_view_module_version": "1.2.0",
       "_view_name": "LayoutView",
       "align_content": null,
       "align_items": null,
       "align_self": null,
       "border": null,
       "bottom": null,
       "display": null,
       "flex": null,
       "flex_flow": null,
       "grid_area": null,
       "grid_auto_columns": null,
       "grid_auto_flow": null,
       "grid_auto_rows": null,
       "grid_column": null,
       "grid_gap": null,
       "grid_row": null,
       "grid_template_areas": null,
       "grid_template_columns": null,
       "grid_template_rows": null,
       "height": null,
       "justify_content": null,
       "justify_items": null,
       "left": null,
       "margin": null,
       "max_height": null,
       "max_width": null,
       "min_height": null,
       "min_width": null,
       "object_fit": null,
       "object_position": null,
       "order": null,
       "overflow": null,
       "overflow_x": null,
       "overflow_y": null,
       "padding": null,
       "right": null,
       "top": null,
       "visibility": null,
       "width": null
      }
     },
     "5c7d6d1d689d42e585f1e8f72efee777": {
      "model_module": "@jupyter-widgets/controls",
      "model_module_version": "1.5.0",
      "model_name": "ProgressStyleModel",
      "state": {
       "_model_module": "@jupyter-widgets/controls",
       "_model_module_version": "1.5.0",
       "_model_name": "ProgressStyleModel",
       "_view_count": null,
       "_view_module": "@jupyter-widgets/base",
       "_view_module_version": "1.2.0",
       "_view_name": "StyleView",
       "bar_color": null,
       "description_width": ""
      }
     },
     "82bf3d9e5a8545e891933373e7f010b2": {
      "model_module": "@jupyter-widgets/controls",
      "model_module_version": "1.5.0",
      "model_name": "HBoxModel",
      "state": {
       "_dom_classes": [],
       "_model_module": "@jupyter-widgets/controls",
       "_model_module_version": "1.5.0",
       "_model_name": "HBoxModel",
       "_view_count": null,
       "_view_module": "@jupyter-widgets/controls",
       "_view_module_version": "1.5.0",
       "_view_name": "HBoxView",
       "box_style": "",
       "children": [
        "IPY_MODEL_c7db9996088e4893958e7f8d59dd8f8f",
        "IPY_MODEL_4cabd3ec28b741d69e7ea4c788f9e509",
        "IPY_MODEL_d50ae8b409c146ad967b9e0f39972190"
       ],
       "layout": "IPY_MODEL_38005cdce77c4909824f3e1cc92c7a12"
      }
     },
     "8f611735c21b4577b9e6513b75e5b4ef": {
      "model_module": "@jupyter-widgets/base",
      "model_module_version": "1.2.0",
      "model_name": "LayoutModel",
      "state": {
       "_model_module": "@jupyter-widgets/base",
       "_model_module_version": "1.2.0",
       "_model_name": "LayoutModel",
       "_view_count": null,
       "_view_module": "@jupyter-widgets/base",
       "_view_module_version": "1.2.0",
       "_view_name": "LayoutView",
       "align_content": null,
       "align_items": null,
       "align_self": null,
       "border": null,
       "bottom": null,
       "display": null,
       "flex": null,
       "flex_flow": null,
       "grid_area": null,
       "grid_auto_columns": null,
       "grid_auto_flow": null,
       "grid_auto_rows": null,
       "grid_column": null,
       "grid_gap": null,
       "grid_row": null,
       "grid_template_areas": null,
       "grid_template_columns": null,
       "grid_template_rows": null,
       "height": null,
       "justify_content": null,
       "justify_items": null,
       "left": null,
       "margin": null,
       "max_height": null,
       "max_width": null,
       "min_height": null,
       "min_width": null,
       "object_fit": null,
       "object_position": null,
       "order": null,
       "overflow": null,
       "overflow_x": null,
       "overflow_y": null,
       "padding": null,
       "right": null,
       "top": null,
       "visibility": null,
       "width": null
      }
     },
     "a1c2861395614182bee43621803ad78e": {
      "model_module": "@jupyter-widgets/base",
      "model_module_version": "1.2.0",
      "model_name": "LayoutModel",
      "state": {
       "_model_module": "@jupyter-widgets/base",
       "_model_module_version": "1.2.0",
       "_model_name": "LayoutModel",
       "_view_count": null,
       "_view_module": "@jupyter-widgets/base",
       "_view_module_version": "1.2.0",
       "_view_name": "LayoutView",
       "align_content": null,
       "align_items": null,
       "align_self": null,
       "border": null,
       "bottom": null,
       "display": null,
       "flex": null,
       "flex_flow": null,
       "grid_area": null,
       "grid_auto_columns": null,
       "grid_auto_flow": null,
       "grid_auto_rows": null,
       "grid_column": null,
       "grid_gap": null,
       "grid_row": null,
       "grid_template_areas": null,
       "grid_template_columns": null,
       "grid_template_rows": null,
       "height": null,
       "justify_content": null,
       "justify_items": null,
       "left": null,
       "margin": null,
       "max_height": null,
       "max_width": null,
       "min_height": null,
       "min_width": null,
       "object_fit": null,
       "object_position": null,
       "order": null,
       "overflow": null,
       "overflow_x": null,
       "overflow_y": null,
       "padding": null,
       "right": null,
       "top": null,
       "visibility": null,
       "width": null
      }
     },
     "a2df2ae97a4a4232b4581f86913020a6": {
      "model_module": "@jupyter-widgets/base",
      "model_module_version": "1.2.0",
      "model_name": "LayoutModel",
      "state": {
       "_model_module": "@jupyter-widgets/base",
       "_model_module_version": "1.2.0",
       "_model_name": "LayoutModel",
       "_view_count": null,
       "_view_module": "@jupyter-widgets/base",
       "_view_module_version": "1.2.0",
       "_view_name": "LayoutView",
       "align_content": null,
       "align_items": null,
       "align_self": null,
       "border": null,
       "bottom": null,
       "display": null,
       "flex": null,
       "flex_flow": null,
       "grid_area": null,
       "grid_auto_columns": null,
       "grid_auto_flow": null,
       "grid_auto_rows": null,
       "grid_column": null,
       "grid_gap": null,
       "grid_row": null,
       "grid_template_areas": null,
       "grid_template_columns": null,
       "grid_template_rows": null,
       "height": null,
       "justify_content": null,
       "justify_items": null,
       "left": null,
       "margin": null,
       "max_height": null,
       "max_width": null,
       "min_height": null,
       "min_width": null,
       "object_fit": null,
       "object_position": null,
       "order": null,
       "overflow": null,
       "overflow_x": null,
       "overflow_y": null,
       "padding": null,
       "right": null,
       "top": null,
       "visibility": null,
       "width": null
      }
     },
     "c31fafbc90514d278bafb630fbd0dc93": {
      "model_module": "@jupyter-widgets/base",
      "model_module_version": "1.2.0",
      "model_name": "LayoutModel",
      "state": {
       "_model_module": "@jupyter-widgets/base",
       "_model_module_version": "1.2.0",
       "_model_name": "LayoutModel",
       "_view_count": null,
       "_view_module": "@jupyter-widgets/base",
       "_view_module_version": "1.2.0",
       "_view_name": "LayoutView",
       "align_content": null,
       "align_items": null,
       "align_self": null,
       "border": null,
       "bottom": null,
       "display": null,
       "flex": null,
       "flex_flow": null,
       "grid_area": null,
       "grid_auto_columns": null,
       "grid_auto_flow": null,
       "grid_auto_rows": null,
       "grid_column": null,
       "grid_gap": null,
       "grid_row": null,
       "grid_template_areas": null,
       "grid_template_columns": null,
       "grid_template_rows": null,
       "height": null,
       "justify_content": null,
       "justify_items": null,
       "left": null,
       "margin": null,
       "max_height": null,
       "max_width": null,
       "min_height": null,
       "min_width": null,
       "object_fit": null,
       "object_position": null,
       "order": null,
       "overflow": null,
       "overflow_x": null,
       "overflow_y": null,
       "padding": null,
       "right": null,
       "top": null,
       "visibility": null,
       "width": null
      }
     },
     "c7db9996088e4893958e7f8d59dd8f8f": {
      "model_module": "@jupyter-widgets/controls",
      "model_module_version": "1.5.0",
      "model_name": "HTMLModel",
      "state": {
       "_dom_classes": [],
       "_model_module": "@jupyter-widgets/controls",
       "_model_module_version": "1.5.0",
       "_model_name": "HTMLModel",
       "_view_count": null,
       "_view_module": "@jupyter-widgets/controls",
       "_view_module_version": "1.5.0",
       "_view_name": "HTMLView",
       "description": "",
       "description_tooltip": null,
       "layout": "IPY_MODEL_a2df2ae97a4a4232b4581f86913020a6",
       "placeholder": "​",
       "style": "IPY_MODEL_0ea0181c98ed4455bea718b4dded58ec",
       "value": "100%"
      }
     },
     "d50ae8b409c146ad967b9e0f39972190": {
      "model_module": "@jupyter-widgets/controls",
      "model_module_version": "1.5.0",
      "model_name": "HTMLModel",
      "state": {
       "_dom_classes": [],
       "_model_module": "@jupyter-widgets/controls",
       "_model_module_version": "1.5.0",
       "_model_name": "HTMLModel",
       "_view_count": null,
       "_view_module": "@jupyter-widgets/controls",
       "_view_module_version": "1.5.0",
       "_view_name": "HTMLView",
       "description": "",
       "description_tooltip": null,
       "layout": "IPY_MODEL_dc5ccfa45ac94746bdf85db14dbee2f4",
       "placeholder": "​",
       "style": "IPY_MODEL_d83e0a683596418fb6873a184be979e5",
       "value": " 8000/8000 [00:01&lt;00:00, 8321.59it/s]"
      }
     },
     "d83e0a683596418fb6873a184be979e5": {
      "model_module": "@jupyter-widgets/controls",
      "model_module_version": "1.5.0",
      "model_name": "DescriptionStyleModel",
      "state": {
       "_model_module": "@jupyter-widgets/controls",
       "_model_module_version": "1.5.0",
       "_model_name": "DescriptionStyleModel",
       "_view_count": null,
       "_view_module": "@jupyter-widgets/base",
       "_view_module_version": "1.2.0",
       "_view_name": "StyleView",
       "description_width": ""
      }
     },
     "dc5ccfa45ac94746bdf85db14dbee2f4": {
      "model_module": "@jupyter-widgets/base",
      "model_module_version": "1.2.0",
      "model_name": "LayoutModel",
      "state": {
       "_model_module": "@jupyter-widgets/base",
       "_model_module_version": "1.2.0",
       "_model_name": "LayoutModel",
       "_view_count": null,
       "_view_module": "@jupyter-widgets/base",
       "_view_module_version": "1.2.0",
       "_view_name": "LayoutView",
       "align_content": null,
       "align_items": null,
       "align_self": null,
       "border": null,
       "bottom": null,
       "display": null,
       "flex": null,
       "flex_flow": null,
       "grid_area": null,
       "grid_auto_columns": null,
       "grid_auto_flow": null,
       "grid_auto_rows": null,
       "grid_column": null,
       "grid_gap": null,
       "grid_row": null,
       "grid_template_areas": null,
       "grid_template_columns": null,
       "grid_template_rows": null,
       "height": null,
       "justify_content": null,
       "justify_items": null,
       "left": null,
       "margin": null,
       "max_height": null,
       "max_width": null,
       "min_height": null,
       "min_width": null,
       "object_fit": null,
       "object_position": null,
       "order": null,
       "overflow": null,
       "overflow_x": null,
       "overflow_y": null,
       "padding": null,
       "right": null,
       "top": null,
       "visibility": null,
       "width": null
      }
     },
     "dc99c6a3689641e89be9e5e1f843b164": {
      "model_module": "@jupyter-widgets/base",
      "model_module_version": "1.2.0",
      "model_name": "LayoutModel",
      "state": {
       "_model_module": "@jupyter-widgets/base",
       "_model_module_version": "1.2.0",
       "_model_name": "LayoutModel",
       "_view_count": null,
       "_view_module": "@jupyter-widgets/base",
       "_view_module_version": "1.2.0",
       "_view_name": "LayoutView",
       "align_content": null,
       "align_items": null,
       "align_self": null,
       "border": null,
       "bottom": null,
       "display": null,
       "flex": null,
       "flex_flow": null,
       "grid_area": null,
       "grid_auto_columns": null,
       "grid_auto_flow": null,
       "grid_auto_rows": null,
       "grid_column": null,
       "grid_gap": null,
       "grid_row": null,
       "grid_template_areas": null,
       "grid_template_columns": null,
       "grid_template_rows": null,
       "height": null,
       "justify_content": null,
       "justify_items": null,
       "left": null,
       "margin": null,
       "max_height": null,
       "max_width": null,
       "min_height": null,
       "min_width": null,
       "object_fit": null,
       "object_position": null,
       "order": null,
       "overflow": null,
       "overflow_x": null,
       "overflow_y": null,
       "padding": null,
       "right": null,
       "top": null,
       "visibility": null,
       "width": null
      }
     },
     "e6b8ac599967427fa4a5e80f3b9c2de2": {
      "model_module": "@jupyter-widgets/controls",
      "model_module_version": "1.5.0",
      "model_name": "FloatProgressModel",
      "state": {
       "_dom_classes": [],
       "_model_module": "@jupyter-widgets/controls",
       "_model_module_version": "1.5.0",
       "_model_name": "FloatProgressModel",
       "_view_count": null,
       "_view_module": "@jupyter-widgets/controls",
       "_view_module_version": "1.5.0",
       "_view_name": "ProgressView",
       "bar_style": "success",
       "description": "",
       "description_tooltip": null,
       "layout": "IPY_MODEL_521604a787894d3792567249a93d31ca",
       "max": 8000.0,
       "min": 0.0,
       "orientation": "horizontal",
       "style": "IPY_MODEL_0a6a585798fd42eaba2b10d87971c7e4",
       "value": 8000.0
      }
     }
    },
    "version_major": 2,
    "version_minor": 0
   }
  }
 },
 "nbformat": 4,
 "nbformat_minor": 5
}
